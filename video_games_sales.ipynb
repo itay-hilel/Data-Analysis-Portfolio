{
 "cells": [
  {
   "cell_type": "markdown",
   "metadata": {},
   "source": [
    "# Анализ рынка видео игр"
   ]
  },
  {
   "cell_type": "markdown",
   "metadata": {},
   "source": [
    "**Задача:**  \n",
    "Для интернет-магазина компьютерных игр необходимо провести анализ рынка, выявить определяющие успешность игр закономерности, определить портрет пользователя для каждого из регионов, проверить рабочие гипотезы. Это позволит сделать ставку на потенциально популярный продукт и спланировать рекламные кампании, помочь развитию бизнеса магазина.    \n"
   ]
  },
  {
   "cell_type": "markdown",
   "metadata": {},
   "source": [
    "Данные собраны из открытых источников и записаны в файл *games.csv*. Данные включают в себя информацию за период с 1983 по 2016 годы. Данные за 2016 год могут быть неполными."
   ]
  },
  {
   "cell_type": "markdown",
   "metadata": {},
   "source": [
    "**Описание данных *games.csv*:**\n",
    "* Name — название игры\n",
    "* Platform — платформа\n",
    "* Year_of_Release — год выпуска\n",
    "* Genre — жанр игры\n",
    "* NA_sales — продажи в Северной Америке (миллионы долларов)\n",
    "* EU_sales — продажи в Европе (миллионы долларов)\n",
    "* JP_sales — продажи в Японии (миллионы долларов)\n",
    "* Other_sales — продажи в других странах (миллионы долларов)\n",
    "* Critic_Score — оценка критиков (от 0 до 100)\n",
    "* User_Score — оценка пользователей (от 0 до 10)\n",
    "* Rating — рейтинг от организации ESRB (англ. Entertainment Software Rating Board). Эта ассоциация определяет рейтинг компьютерных игр и присваивает им подходящую возрастную категорию."
   ]
  },
  {
   "cell_type": "markdown",
   "metadata": {},
   "source": [
    "## Этапы выполнения проекта\n",
    "[1. Получение данных](#Этап-1.-Получение-данных)  \n",
    "[2. Предобработка данных](#Этап-2.-Предобработка-данных)  \n",
    "[3. Исследовательский анализ данных](#Этап-3.-Исследовательский-анализ-данных)  \n",
    "[4. Портрет пользователя каждого региона](#Этап-4.-Портрет-пользователя-каждого-региона)  \n",
    "[5. Исследование статистических показателей](#Этап-5.-Исследование-статистических-показателей)  \n",
    "[6. Проверка гипотез](#Этап-6.-Проверка-гипотез)  \n",
    "[7. Результаты исследования](#Этап-7.-Результаты-исследования)  "
   ]
  },
  {
   "cell_type": "markdown",
   "metadata": {},
   "source": [
    "## Этап 1. Получение данных"
   ]
  },
  {
   "cell_type": "markdown",
   "metadata": {},
   "source": [
    "Изучим данные, предоставленные для проекта."
   ]
  },
  {
   "cell_type": "code",
   "execution_count": 1,
   "metadata": {},
   "outputs": [],
   "source": [
    "# импорт библиотек\n",
    "import pandas as pd\n",
    "import numpy as np\n",
    "from scipy import stats as st\n",
    "import seaborn as sns\n",
    "import matplotlib.pyplot as plt\n",
    "%matplotlib inline"
   ]
  },
  {
   "cell_type": "markdown",
   "metadata": {},
   "source": [
    "Прочитаем файл games.csv и сохраним его в переменной df. "
   ]
  },
  {
   "cell_type": "code",
   "execution_count": 2,
   "metadata": {},
   "outputs": [],
   "source": [
    "# чтение файла с данными с сохранением в df\n",
    "df = pd.read_csv('/datasets/games.csv')"
   ]
  },
  {
   "cell_type": "markdown",
   "metadata": {},
   "source": [
    "Получение первых 10 строк таблицы."
   ]
  },
  {
   "cell_type": "code",
   "execution_count": 3,
   "metadata": {},
   "outputs": [
    {
     "data": {
      "text/html": [
       "<div>\n",
       "<style scoped>\n",
       "    .dataframe tbody tr th:only-of-type {\n",
       "        vertical-align: middle;\n",
       "    }\n",
       "\n",
       "    .dataframe tbody tr th {\n",
       "        vertical-align: top;\n",
       "    }\n",
       "\n",
       "    .dataframe thead th {\n",
       "        text-align: right;\n",
       "    }\n",
       "</style>\n",
       "<table border=\"1\" class=\"dataframe\">\n",
       "  <thead>\n",
       "    <tr style=\"text-align: right;\">\n",
       "      <th></th>\n",
       "      <th>Name</th>\n",
       "      <th>Platform</th>\n",
       "      <th>Year_of_Release</th>\n",
       "      <th>Genre</th>\n",
       "      <th>NA_sales</th>\n",
       "      <th>EU_sales</th>\n",
       "      <th>JP_sales</th>\n",
       "      <th>Other_sales</th>\n",
       "      <th>Critic_Score</th>\n",
       "      <th>User_Score</th>\n",
       "      <th>Rating</th>\n",
       "    </tr>\n",
       "  </thead>\n",
       "  <tbody>\n",
       "    <tr>\n",
       "      <td>0</td>\n",
       "      <td>Wii Sports</td>\n",
       "      <td>Wii</td>\n",
       "      <td>2006.0</td>\n",
       "      <td>Sports</td>\n",
       "      <td>41.36</td>\n",
       "      <td>28.96</td>\n",
       "      <td>3.77</td>\n",
       "      <td>8.45</td>\n",
       "      <td>76.0</td>\n",
       "      <td>8</td>\n",
       "      <td>E</td>\n",
       "    </tr>\n",
       "    <tr>\n",
       "      <td>1</td>\n",
       "      <td>Super Mario Bros.</td>\n",
       "      <td>NES</td>\n",
       "      <td>1985.0</td>\n",
       "      <td>Platform</td>\n",
       "      <td>29.08</td>\n",
       "      <td>3.58</td>\n",
       "      <td>6.81</td>\n",
       "      <td>0.77</td>\n",
       "      <td>NaN</td>\n",
       "      <td>NaN</td>\n",
       "      <td>NaN</td>\n",
       "    </tr>\n",
       "    <tr>\n",
       "      <td>2</td>\n",
       "      <td>Mario Kart Wii</td>\n",
       "      <td>Wii</td>\n",
       "      <td>2008.0</td>\n",
       "      <td>Racing</td>\n",
       "      <td>15.68</td>\n",
       "      <td>12.76</td>\n",
       "      <td>3.79</td>\n",
       "      <td>3.29</td>\n",
       "      <td>82.0</td>\n",
       "      <td>8.3</td>\n",
       "      <td>E</td>\n",
       "    </tr>\n",
       "    <tr>\n",
       "      <td>3</td>\n",
       "      <td>Wii Sports Resort</td>\n",
       "      <td>Wii</td>\n",
       "      <td>2009.0</td>\n",
       "      <td>Sports</td>\n",
       "      <td>15.61</td>\n",
       "      <td>10.93</td>\n",
       "      <td>3.28</td>\n",
       "      <td>2.95</td>\n",
       "      <td>80.0</td>\n",
       "      <td>8</td>\n",
       "      <td>E</td>\n",
       "    </tr>\n",
       "    <tr>\n",
       "      <td>4</td>\n",
       "      <td>Pokemon Red/Pokemon Blue</td>\n",
       "      <td>GB</td>\n",
       "      <td>1996.0</td>\n",
       "      <td>Role-Playing</td>\n",
       "      <td>11.27</td>\n",
       "      <td>8.89</td>\n",
       "      <td>10.22</td>\n",
       "      <td>1.00</td>\n",
       "      <td>NaN</td>\n",
       "      <td>NaN</td>\n",
       "      <td>NaN</td>\n",
       "    </tr>\n",
       "    <tr>\n",
       "      <td>5</td>\n",
       "      <td>Tetris</td>\n",
       "      <td>GB</td>\n",
       "      <td>1989.0</td>\n",
       "      <td>Puzzle</td>\n",
       "      <td>23.20</td>\n",
       "      <td>2.26</td>\n",
       "      <td>4.22</td>\n",
       "      <td>0.58</td>\n",
       "      <td>NaN</td>\n",
       "      <td>NaN</td>\n",
       "      <td>NaN</td>\n",
       "    </tr>\n",
       "    <tr>\n",
       "      <td>6</td>\n",
       "      <td>New Super Mario Bros.</td>\n",
       "      <td>DS</td>\n",
       "      <td>2006.0</td>\n",
       "      <td>Platform</td>\n",
       "      <td>11.28</td>\n",
       "      <td>9.14</td>\n",
       "      <td>6.50</td>\n",
       "      <td>2.88</td>\n",
       "      <td>89.0</td>\n",
       "      <td>8.5</td>\n",
       "      <td>E</td>\n",
       "    </tr>\n",
       "    <tr>\n",
       "      <td>7</td>\n",
       "      <td>Wii Play</td>\n",
       "      <td>Wii</td>\n",
       "      <td>2006.0</td>\n",
       "      <td>Misc</td>\n",
       "      <td>13.96</td>\n",
       "      <td>9.18</td>\n",
       "      <td>2.93</td>\n",
       "      <td>2.84</td>\n",
       "      <td>58.0</td>\n",
       "      <td>6.6</td>\n",
       "      <td>E</td>\n",
       "    </tr>\n",
       "    <tr>\n",
       "      <td>8</td>\n",
       "      <td>New Super Mario Bros. Wii</td>\n",
       "      <td>Wii</td>\n",
       "      <td>2009.0</td>\n",
       "      <td>Platform</td>\n",
       "      <td>14.44</td>\n",
       "      <td>6.94</td>\n",
       "      <td>4.70</td>\n",
       "      <td>2.24</td>\n",
       "      <td>87.0</td>\n",
       "      <td>8.4</td>\n",
       "      <td>E</td>\n",
       "    </tr>\n",
       "    <tr>\n",
       "      <td>9</td>\n",
       "      <td>Duck Hunt</td>\n",
       "      <td>NES</td>\n",
       "      <td>1984.0</td>\n",
       "      <td>Shooter</td>\n",
       "      <td>26.93</td>\n",
       "      <td>0.63</td>\n",
       "      <td>0.28</td>\n",
       "      <td>0.47</td>\n",
       "      <td>NaN</td>\n",
       "      <td>NaN</td>\n",
       "      <td>NaN</td>\n",
       "    </tr>\n",
       "  </tbody>\n",
       "</table>\n",
       "</div>"
      ],
      "text/plain": [
       "                        Name Platform  Year_of_Release         Genre  \\\n",
       "0                 Wii Sports      Wii           2006.0        Sports   \n",
       "1          Super Mario Bros.      NES           1985.0      Platform   \n",
       "2             Mario Kart Wii      Wii           2008.0        Racing   \n",
       "3          Wii Sports Resort      Wii           2009.0        Sports   \n",
       "4   Pokemon Red/Pokemon Blue       GB           1996.0  Role-Playing   \n",
       "5                     Tetris       GB           1989.0        Puzzle   \n",
       "6      New Super Mario Bros.       DS           2006.0      Platform   \n",
       "7                   Wii Play      Wii           2006.0          Misc   \n",
       "8  New Super Mario Bros. Wii      Wii           2009.0      Platform   \n",
       "9                  Duck Hunt      NES           1984.0       Shooter   \n",
       "\n",
       "   NA_sales  EU_sales  JP_sales  Other_sales  Critic_Score User_Score Rating  \n",
       "0     41.36     28.96      3.77         8.45          76.0          8      E  \n",
       "1     29.08      3.58      6.81         0.77           NaN        NaN    NaN  \n",
       "2     15.68     12.76      3.79         3.29          82.0        8.3      E  \n",
       "3     15.61     10.93      3.28         2.95          80.0          8      E  \n",
       "4     11.27      8.89     10.22         1.00           NaN        NaN    NaN  \n",
       "5     23.20      2.26      4.22         0.58           NaN        NaN    NaN  \n",
       "6     11.28      9.14      6.50         2.88          89.0        8.5      E  \n",
       "7     13.96      9.18      2.93         2.84          58.0        6.6      E  \n",
       "8     14.44      6.94      4.70         2.24          87.0        8.4      E  \n",
       "9     26.93      0.63      0.28         0.47           NaN        NaN    NaN  "
      ]
     },
     "execution_count": 3,
     "metadata": {},
     "output_type": "execute_result"
    }
   ],
   "source": [
    "# получение первых 10 строк таблицы.\n",
    "df.head(10)"
   ]
  },
  {
   "cell_type": "markdown",
   "metadata": {},
   "source": [
    "Общая информация о данных таблицы df."
   ]
  },
  {
   "cell_type": "code",
   "execution_count": 4,
   "metadata": {},
   "outputs": [
    {
     "name": "stdout",
     "output_type": "stream",
     "text": [
      "<class 'pandas.core.frame.DataFrame'>\n",
      "RangeIndex: 16715 entries, 0 to 16714\n",
      "Data columns (total 11 columns):\n",
      "Name               16713 non-null object\n",
      "Platform           16715 non-null object\n",
      "Year_of_Release    16446 non-null float64\n",
      "Genre              16713 non-null object\n",
      "NA_sales           16715 non-null float64\n",
      "EU_sales           16715 non-null float64\n",
      "JP_sales           16715 non-null float64\n",
      "Other_sales        16715 non-null float64\n",
      "Critic_Score       8137 non-null float64\n",
      "User_Score         10014 non-null object\n",
      "Rating             9949 non-null object\n",
      "dtypes: float64(6), object(5)\n",
      "memory usage: 1.4+ MB\n"
     ]
    }
   ],
   "source": [
    "# получение общей информации о данных в таблице df\n",
    "df.info()"
   ]
  },
  {
   "cell_type": "markdown",
   "metadata": {},
   "source": [
    "Рассмотрим полученную информацию подробнее.\n",
    "\n",
    "Всего в таблице 11 столбцов. Присутствуют два типа данных: non-null object (5 столбцов) и non-null float64 (6 столбцов).\n",
    "\n",
    "Подробно разберём, какие в df столбцы и какую информацию они содержат:\n",
    "* Name — название игры\n",
    "* Platform — платформа\n",
    "* Year_of_Release — год выпуска\n",
    "* Genre — жанр игры\n",
    "* NA_sales — продажи в Северной Америке (миллионы долларов)\n",
    "* EU_sales — продажи в Европе (миллионы долларов)\n",
    "* JP_sales — продажи в Японии (миллионы долларов)\n",
    "* Other_sales — продажи в других странах (миллионы долларов)\n",
    "* Critic_Score — оценка критиков (от 0 до 100)\n",
    "* User_Score — оценка пользователей (от 0 до 10)\n",
    "* Rating — рейтинг от организации ESRB (англ. Entertainment Software Rating Board). Эта ассоциация определяет рейтинг компьютерных игр и присваивает им подходящую возрастную категорию.\n",
    "\n",
    "Количество значений в столбцах различается. Это говорит о том, что в данных есть пропущенные значения.\n"
   ]
  },
  {
   "cell_type": "markdown",
   "metadata": {},
   "source": [
    "**Выводы**"
   ]
  },
  {
   "cell_type": "markdown",
   "metadata": {},
   "source": [
    "Каждая строка таблицы содержит исторические данные о продажах игр, оценки пользователей и экспертов, жанры и платформы (например, Xbox или PlayStation), год выпуска и присвоенный возрастной рейтинг.\n",
    "\n",
    "Две проблемы, которые нужно решать на следующем этапе: пропуски и некачественные названия столбцов. \n",
    "\n",
    "Для проверки рабочих гипотез особенно ценны столбцы Genre, Platform, Year_of_Release и разбивка продаж по регионам. По ним мы сможем отследить, как менялись предпочтения пользователей со времением, составить портрет пользователя каждого региона. Столбцы Critic_Score, User_Score, Rating помогут проверить гипотезы о влиянии рейтинга игр на продажи в зависимости от жанра и платформы выхода игр."
   ]
  },
  {
   "cell_type": "markdown",
   "metadata": {},
   "source": [
    "## Этап 2. Предобработка данных"
   ]
  },
  {
   "cell_type": "markdown",
   "metadata": {},
   "source": [
    "Заменим названия столбцов, преобразуем данные в нужные типы, обработаем пропуски (с заполнением, где возможно), проверим данные на наличие дубликатов, а также посчитаем суммарные продажи во всех регионах и запишем их в отдельный столбец."
   ]
  },
  {
   "cell_type": "markdown",
   "metadata": {},
   "source": [
    "Получаем перечень названий столбцов."
   ]
  },
  {
   "cell_type": "code",
   "execution_count": 5,
   "metadata": {},
   "outputs": [
    {
     "data": {
      "text/plain": [
       "Index(['Name', 'Platform', 'Year_of_Release', 'Genre', 'NA_sales', 'EU_sales',\n",
       "       'JP_sales', 'Other_sales', 'Critic_Score', 'User_Score', 'Rating'],\n",
       "      dtype='object')"
      ]
     },
     "execution_count": 5,
     "metadata": {},
     "output_type": "execute_result"
    }
   ],
   "source": [
    "# перечень названий столбцов таблицы df\n",
    "df.columns"
   ]
  },
  {
   "cell_type": "markdown",
   "metadata": {},
   "source": [
    "Названия столбцов с заглавной буквы, что не совсем удобно для доступа к данным. Переименуем столбцы для удобства дальнейшей работы. Проверим результат."
   ]
  },
  {
   "cell_type": "code",
   "execution_count": 6,
   "metadata": {},
   "outputs": [],
   "source": [
    "# переименование столбцов\n",
    "df = df.rename(columns=lambda x: x.lower())"
   ]
  },
  {
   "cell_type": "code",
   "execution_count": 7,
   "metadata": {},
   "outputs": [
    {
     "data": {
      "text/plain": [
       "Index(['name', 'platform', 'year_of_release', 'genre', 'na_sales', 'eu_sales',\n",
       "       'jp_sales', 'other_sales', 'critic_score', 'user_score', 'rating'],\n",
       "      dtype='object')"
      ]
     },
     "execution_count": 7,
     "metadata": {},
     "output_type": "execute_result"
    }
   ],
   "source": [
    "# проверка результатов - перечень названий столбцов\n",
    "df.columns"
   ]
  },
  {
   "cell_type": "markdown",
   "metadata": {},
   "source": [
    "Необходимо установить наличие дубликатов. Если найдутся, удаляем, и проверяем, все ли удалились."
   ]
  },
  {
   "cell_type": "code",
   "execution_count": 8,
   "metadata": {},
   "outputs": [
    {
     "data": {
      "text/plain": [
       "0"
      ]
     },
     "execution_count": 8,
     "metadata": {},
     "output_type": "execute_result"
    }
   ],
   "source": [
    "# получение суммарного количества дубликатов в таблице df\n",
    "df.duplicated().sum()"
   ]
  },
  {
   "cell_type": "markdown",
   "metadata": {},
   "source": [
    "Дубликатов не обнаружено. Займемся пропущенными значениями."
   ]
  },
  {
   "cell_type": "markdown",
   "metadata": {},
   "source": [
    "Проверим данные на наличие пропусков вызовом набора методов для суммирования пропущенных значений."
   ]
  },
  {
   "cell_type": "code",
   "execution_count": 9,
   "metadata": {},
   "outputs": [
    {
     "data": {
      "text/plain": [
       "name                  2\n",
       "platform              0\n",
       "year_of_release     269\n",
       "genre                 2\n",
       "na_sales              0\n",
       "eu_sales              0\n",
       "jp_sales              0\n",
       "other_sales           0\n",
       "critic_score       8578\n",
       "user_score         6701\n",
       "rating             6766\n",
       "dtype: int64"
      ]
     },
     "execution_count": 9,
     "metadata": {},
     "output_type": "execute_result"
    }
   ],
   "source": [
    "# суммарное количество пропусков в таблице df\n",
    "df.isnull().sum()"
   ]
  },
  {
   "cell_type": "markdown",
   "metadata": {},
   "source": [
    "**Обработка пропусков данных в столбце 'name'**"
   ]
  },
  {
   "cell_type": "markdown",
   "metadata": {},
   "source": [
    "Сперва посмотрим на строки с пропусками данных в столбце name."
   ]
  },
  {
   "cell_type": "code",
   "execution_count": 10,
   "metadata": {},
   "outputs": [
    {
     "data": {
      "text/html": [
       "<div>\n",
       "<style scoped>\n",
       "    .dataframe tbody tr th:only-of-type {\n",
       "        vertical-align: middle;\n",
       "    }\n",
       "\n",
       "    .dataframe tbody tr th {\n",
       "        vertical-align: top;\n",
       "    }\n",
       "\n",
       "    .dataframe thead th {\n",
       "        text-align: right;\n",
       "    }\n",
       "</style>\n",
       "<table border=\"1\" class=\"dataframe\">\n",
       "  <thead>\n",
       "    <tr style=\"text-align: right;\">\n",
       "      <th></th>\n",
       "      <th>name</th>\n",
       "      <th>platform</th>\n",
       "      <th>year_of_release</th>\n",
       "      <th>genre</th>\n",
       "      <th>na_sales</th>\n",
       "      <th>eu_sales</th>\n",
       "      <th>jp_sales</th>\n",
       "      <th>other_sales</th>\n",
       "      <th>critic_score</th>\n",
       "      <th>user_score</th>\n",
       "      <th>rating</th>\n",
       "    </tr>\n",
       "  </thead>\n",
       "  <tbody>\n",
       "    <tr>\n",
       "      <td>659</td>\n",
       "      <td>NaN</td>\n",
       "      <td>GEN</td>\n",
       "      <td>1993.0</td>\n",
       "      <td>NaN</td>\n",
       "      <td>1.78</td>\n",
       "      <td>0.53</td>\n",
       "      <td>0.00</td>\n",
       "      <td>0.08</td>\n",
       "      <td>NaN</td>\n",
       "      <td>NaN</td>\n",
       "      <td>NaN</td>\n",
       "    </tr>\n",
       "    <tr>\n",
       "      <td>14244</td>\n",
       "      <td>NaN</td>\n",
       "      <td>GEN</td>\n",
       "      <td>1993.0</td>\n",
       "      <td>NaN</td>\n",
       "      <td>0.00</td>\n",
       "      <td>0.00</td>\n",
       "      <td>0.03</td>\n",
       "      <td>0.00</td>\n",
       "      <td>NaN</td>\n",
       "      <td>NaN</td>\n",
       "      <td>NaN</td>\n",
       "    </tr>\n",
       "  </tbody>\n",
       "</table>\n",
       "</div>"
      ],
      "text/plain": [
       "      name platform  year_of_release genre  na_sales  eu_sales  jp_sales  \\\n",
       "659    NaN      GEN           1993.0   NaN      1.78      0.53      0.00   \n",
       "14244  NaN      GEN           1993.0   NaN      0.00      0.00      0.03   \n",
       "\n",
       "       other_sales  critic_score user_score rating  \n",
       "659           0.08           NaN        NaN    NaN  \n",
       "14244         0.00           NaN        NaN    NaN  "
      ]
     },
     "execution_count": 10,
     "metadata": {},
     "output_type": "execute_result"
    }
   ],
   "source": [
    "# отбираем строки с пропусками данных в столбце name\n",
    "df[df['name'].isna()]"
   ]
  },
  {
   "cell_type": "markdown",
   "metadata": {},
   "source": [
    "Таких строк всего две. Более того данные строки содержат пропуски в других столбцах (genre, critic_score, user_score, rating) и относятся к играм 1993 года выпуска на платформе GEN. Таким образом, эти строки будем считать не релевантными и не способными существенно повлиять на результаты проводимого анализа, поэтому удалим данные строки."
   ]
  },
  {
   "cell_type": "code",
   "execution_count": 11,
   "metadata": {},
   "outputs": [],
   "source": [
    "# удаляем строки с пропусками данных в столбце name \n",
    "# делаем сброс индексов\n",
    "df = df.dropna(subset=['name']).reset_index(drop=True)"
   ]
  },
  {
   "cell_type": "code",
   "execution_count": 12,
   "metadata": {},
   "outputs": [
    {
     "data": {
      "text/plain": [
       "name                  0\n",
       "platform              0\n",
       "year_of_release     269\n",
       "genre                 0\n",
       "na_sales              0\n",
       "eu_sales              0\n",
       "jp_sales              0\n",
       "other_sales           0\n",
       "critic_score       8576\n",
       "user_score         6699\n",
       "rating             6764\n",
       "dtype: int64"
      ]
     },
     "execution_count": 12,
     "metadata": {},
     "output_type": "execute_result"
    }
   ],
   "source": [
    "# проверяем суммарное количество пропусков в таблице df\n",
    "df.isnull().sum()"
   ]
  },
  {
   "cell_type": "markdown",
   "metadata": {},
   "source": [
    "Пропуски данных в столбце name теперь отсутствуют"
   ]
  },
  {
   "cell_type": "markdown",
   "metadata": {},
   "source": [
    "**Обработка пропусков данных в столбце 'year_of_release'**"
   ]
  },
  {
   "cell_type": "markdown",
   "metadata": {},
   "source": [
    "Посмотрим на пропуски данных в столбце year_of_release \t"
   ]
  },
  {
   "cell_type": "code",
   "execution_count": 13,
   "metadata": {},
   "outputs": [
    {
     "data": {
      "text/html": [
       "<div>\n",
       "<style scoped>\n",
       "    .dataframe tbody tr th:only-of-type {\n",
       "        vertical-align: middle;\n",
       "    }\n",
       "\n",
       "    .dataframe tbody tr th {\n",
       "        vertical-align: top;\n",
       "    }\n",
       "\n",
       "    .dataframe thead th {\n",
       "        text-align: right;\n",
       "    }\n",
       "</style>\n",
       "<table border=\"1\" class=\"dataframe\">\n",
       "  <thead>\n",
       "    <tr style=\"text-align: right;\">\n",
       "      <th></th>\n",
       "      <th>name</th>\n",
       "      <th>platform</th>\n",
       "      <th>year_of_release</th>\n",
       "      <th>genre</th>\n",
       "      <th>na_sales</th>\n",
       "      <th>eu_sales</th>\n",
       "      <th>jp_sales</th>\n",
       "      <th>other_sales</th>\n",
       "      <th>critic_score</th>\n",
       "      <th>user_score</th>\n",
       "      <th>rating</th>\n",
       "    </tr>\n",
       "  </thead>\n",
       "  <tbody>\n",
       "    <tr>\n",
       "      <td>183</td>\n",
       "      <td>Madden NFL 2004</td>\n",
       "      <td>PS2</td>\n",
       "      <td>NaN</td>\n",
       "      <td>Sports</td>\n",
       "      <td>4.26</td>\n",
       "      <td>0.26</td>\n",
       "      <td>0.01</td>\n",
       "      <td>0.71</td>\n",
       "      <td>94.0</td>\n",
       "      <td>8.5</td>\n",
       "      <td>E</td>\n",
       "    </tr>\n",
       "    <tr>\n",
       "      <td>377</td>\n",
       "      <td>FIFA Soccer 2004</td>\n",
       "      <td>PS2</td>\n",
       "      <td>NaN</td>\n",
       "      <td>Sports</td>\n",
       "      <td>0.59</td>\n",
       "      <td>2.36</td>\n",
       "      <td>0.04</td>\n",
       "      <td>0.51</td>\n",
       "      <td>84.0</td>\n",
       "      <td>6.4</td>\n",
       "      <td>E</td>\n",
       "    </tr>\n",
       "    <tr>\n",
       "      <td>456</td>\n",
       "      <td>LEGO Batman: The Videogame</td>\n",
       "      <td>Wii</td>\n",
       "      <td>NaN</td>\n",
       "      <td>Action</td>\n",
       "      <td>1.80</td>\n",
       "      <td>0.97</td>\n",
       "      <td>0.00</td>\n",
       "      <td>0.29</td>\n",
       "      <td>74.0</td>\n",
       "      <td>7.9</td>\n",
       "      <td>E10+</td>\n",
       "    </tr>\n",
       "    <tr>\n",
       "      <td>475</td>\n",
       "      <td>wwe Smackdown vs. Raw 2006</td>\n",
       "      <td>PS2</td>\n",
       "      <td>NaN</td>\n",
       "      <td>Fighting</td>\n",
       "      <td>1.57</td>\n",
       "      <td>1.02</td>\n",
       "      <td>0.00</td>\n",
       "      <td>0.41</td>\n",
       "      <td>NaN</td>\n",
       "      <td>NaN</td>\n",
       "      <td>NaN</td>\n",
       "    </tr>\n",
       "    <tr>\n",
       "      <td>609</td>\n",
       "      <td>Space Invaders</td>\n",
       "      <td>2600</td>\n",
       "      <td>NaN</td>\n",
       "      <td>Shooter</td>\n",
       "      <td>2.36</td>\n",
       "      <td>0.14</td>\n",
       "      <td>0.00</td>\n",
       "      <td>0.03</td>\n",
       "      <td>NaN</td>\n",
       "      <td>NaN</td>\n",
       "      <td>NaN</td>\n",
       "    </tr>\n",
       "    <tr>\n",
       "      <td>...</td>\n",
       "      <td>...</td>\n",
       "      <td>...</td>\n",
       "      <td>...</td>\n",
       "      <td>...</td>\n",
       "      <td>...</td>\n",
       "      <td>...</td>\n",
       "      <td>...</td>\n",
       "      <td>...</td>\n",
       "      <td>...</td>\n",
       "      <td>...</td>\n",
       "      <td>...</td>\n",
       "    </tr>\n",
       "    <tr>\n",
       "      <td>16371</td>\n",
       "      <td>PDC World Championship Darts 2008</td>\n",
       "      <td>PSP</td>\n",
       "      <td>NaN</td>\n",
       "      <td>Sports</td>\n",
       "      <td>0.01</td>\n",
       "      <td>0.00</td>\n",
       "      <td>0.00</td>\n",
       "      <td>0.00</td>\n",
       "      <td>43.0</td>\n",
       "      <td>tbd</td>\n",
       "      <td>E10+</td>\n",
       "    </tr>\n",
       "    <tr>\n",
       "      <td>16403</td>\n",
       "      <td>Freaky Flyers</td>\n",
       "      <td>GC</td>\n",
       "      <td>NaN</td>\n",
       "      <td>Racing</td>\n",
       "      <td>0.01</td>\n",
       "      <td>0.00</td>\n",
       "      <td>0.00</td>\n",
       "      <td>0.00</td>\n",
       "      <td>69.0</td>\n",
       "      <td>6.5</td>\n",
       "      <td>T</td>\n",
       "    </tr>\n",
       "    <tr>\n",
       "      <td>16446</td>\n",
       "      <td>Inversion</td>\n",
       "      <td>PC</td>\n",
       "      <td>NaN</td>\n",
       "      <td>Shooter</td>\n",
       "      <td>0.01</td>\n",
       "      <td>0.00</td>\n",
       "      <td>0.00</td>\n",
       "      <td>0.00</td>\n",
       "      <td>59.0</td>\n",
       "      <td>6.7</td>\n",
       "      <td>M</td>\n",
       "    </tr>\n",
       "    <tr>\n",
       "      <td>16456</td>\n",
       "      <td>Hakuouki: Shinsengumi Kitan</td>\n",
       "      <td>PS3</td>\n",
       "      <td>NaN</td>\n",
       "      <td>Adventure</td>\n",
       "      <td>0.01</td>\n",
       "      <td>0.00</td>\n",
       "      <td>0.00</td>\n",
       "      <td>0.00</td>\n",
       "      <td>NaN</td>\n",
       "      <td>NaN</td>\n",
       "      <td>NaN</td>\n",
       "    </tr>\n",
       "    <tr>\n",
       "      <td>16520</td>\n",
       "      <td>Virtua Quest</td>\n",
       "      <td>GC</td>\n",
       "      <td>NaN</td>\n",
       "      <td>Role-Playing</td>\n",
       "      <td>0.01</td>\n",
       "      <td>0.00</td>\n",
       "      <td>0.00</td>\n",
       "      <td>0.00</td>\n",
       "      <td>55.0</td>\n",
       "      <td>5.5</td>\n",
       "      <td>T</td>\n",
       "    </tr>\n",
       "  </tbody>\n",
       "</table>\n",
       "<p>269 rows × 11 columns</p>\n",
       "</div>"
      ],
      "text/plain": [
       "                                    name platform  year_of_release  \\\n",
       "183                      Madden NFL 2004      PS2              NaN   \n",
       "377                     FIFA Soccer 2004      PS2              NaN   \n",
       "456           LEGO Batman: The Videogame      Wii              NaN   \n",
       "475           wwe Smackdown vs. Raw 2006      PS2              NaN   \n",
       "609                       Space Invaders     2600              NaN   \n",
       "...                                  ...      ...              ...   \n",
       "16371  PDC World Championship Darts 2008      PSP              NaN   \n",
       "16403                      Freaky Flyers       GC              NaN   \n",
       "16446                          Inversion       PC              NaN   \n",
       "16456        Hakuouki: Shinsengumi Kitan      PS3              NaN   \n",
       "16520                       Virtua Quest       GC              NaN   \n",
       "\n",
       "              genre  na_sales  eu_sales  jp_sales  other_sales  critic_score  \\\n",
       "183          Sports      4.26      0.26      0.01         0.71          94.0   \n",
       "377          Sports      0.59      2.36      0.04         0.51          84.0   \n",
       "456          Action      1.80      0.97      0.00         0.29          74.0   \n",
       "475        Fighting      1.57      1.02      0.00         0.41           NaN   \n",
       "609         Shooter      2.36      0.14      0.00         0.03           NaN   \n",
       "...             ...       ...       ...       ...          ...           ...   \n",
       "16371        Sports      0.01      0.00      0.00         0.00          43.0   \n",
       "16403        Racing      0.01      0.00      0.00         0.00          69.0   \n",
       "16446       Shooter      0.01      0.00      0.00         0.00          59.0   \n",
       "16456     Adventure      0.01      0.00      0.00         0.00           NaN   \n",
       "16520  Role-Playing      0.01      0.00      0.00         0.00          55.0   \n",
       "\n",
       "      user_score rating  \n",
       "183          8.5      E  \n",
       "377          6.4      E  \n",
       "456          7.9   E10+  \n",
       "475          NaN    NaN  \n",
       "609          NaN    NaN  \n",
       "...          ...    ...  \n",
       "16371        tbd   E10+  \n",
       "16403        6.5      T  \n",
       "16446        6.7      M  \n",
       "16456        NaN    NaN  \n",
       "16520        5.5      T  \n",
       "\n",
       "[269 rows x 11 columns]"
      ]
     },
     "execution_count": 13,
     "metadata": {},
     "output_type": "execute_result"
    }
   ],
   "source": [
    "# отбираем строки с пропусками данных в столбце year_of_release \n",
    "df[df['year_of_release'].isna()]"
   ]
  },
  {
   "cell_type": "markdown",
   "metadata": {},
   "source": [
    "У нас нет данных о годе выпуска 269 игр.   \n",
    "Заметим, что у части строк в названии игры присутствует год выпуска. Его можно использовать в качестве замены пропущенных данных для столбца year_of_release "
   ]
  },
  {
   "cell_type": "markdown",
   "metadata": {},
   "source": [
    "Произведем поиск таких строк и создадим словарь, где в качестве ключа будет индекс строки в которой год выпуска присутствует в самом названии игры, а в качестве значения будет сам год выпуска."
   ]
  },
  {
   "cell_type": "code",
   "execution_count": 14,
   "metadata": {},
   "outputs": [
    {
     "name": "stdout",
     "output_type": "stream",
     "text": [
      "index: 183   | year: 2004\n",
      "index: 377   | year: 2004\n",
      "index: 475   | year: 2006\n",
      "index: 1300  | year: 1999\n",
      "index: 1649  | year: 2003\n",
      "index: 2478  | year: 2007\n",
      "index: 2848  | year: 2011\n",
      "index: 3412  | year: 2006\n",
      "index: 3485  | year: 2002\n",
      "index: 4204  | year: 2007\n",
      "index: 4774  | year: 2003\n",
      "index: 5155  | year: 2003\n",
      "index: 5654  | year: 2005\n",
      "index: 5888  | year: 2003\n",
      "index: 8917  | year: 2005\n",
      "index: 13194 | year: 2011\n",
      "index: 13928 | year: 2006\n",
      "index: 15951 | year: 2008\n",
      "index: 16077 | year: 2007\n",
      "index: 16371 | year: 2008\n"
     ]
    }
   ],
   "source": [
    "idx_year = {}  # создаем пустой словарь\n",
    "\n",
    "# итерируемся по строкам с отсутствием информации о годе\n",
    "for row in df[df['year_of_release'].isna()].itertuples():\n",
    "    for item in row.name.split(' '):  # разделяем название игры на отдельные слова\n",
    "        if item == row.name.split(' ')[-1]:  # берем последнее слово из списка\n",
    "            try:  # если последнее слово является числом то\n",
    "                if len(item) == 2 or len(item) == 4: # проверяем его \"длину\"\n",
    "                    item = int(item)  # преобразовываем тип данных\n",
    "                    if item < 21:  # приводим года этого века к полной дате\n",
    "                        item += 2000\n",
    "                    elif item > 80 and item < 100: # приводим года прошлого века к полной дате\n",
    "                        item += 1900\n",
    "                    if item >= 1980:  # 1980 -- минимальное значение года в наших данных\n",
    "                        idx_year[row.Index] = item\n",
    "            except:  # если последнее слово не является числом то продолжаем итерировать по строкам\n",
    "                continue\n",
    "            \n",
    "            \n",
    "# проверяем выводом на экран получившийся словарь\n",
    "for key, value in idx_year.items():\n",
    "    print(f'index: {key: <5} | year:{value: >5}')"
   ]
  },
  {
   "cell_type": "markdown",
   "metadata": {},
   "source": [
    "Производим замену отсутствующих значений на полученные из названий игр года."
   ]
  },
  {
   "cell_type": "code",
   "execution_count": 15,
   "metadata": {},
   "outputs": [],
   "source": [
    "# итерирумся по словарю и производим замену\n",
    "for key, v in idx_year.items():\n",
    "    df.loc[key, 'year_of_release'] = v"
   ]
  },
  {
   "cell_type": "markdown",
   "metadata": {},
   "source": [
    "Проверим данные на замены, выполненные на предыдущем шаге."
   ]
  },
  {
   "cell_type": "code",
   "execution_count": 16,
   "metadata": {},
   "outputs": [
    {
     "data": {
      "text/html": [
       "<div>\n",
       "<style scoped>\n",
       "    .dataframe tbody tr th:only-of-type {\n",
       "        vertical-align: middle;\n",
       "    }\n",
       "\n",
       "    .dataframe tbody tr th {\n",
       "        vertical-align: top;\n",
       "    }\n",
       "\n",
       "    .dataframe thead th {\n",
       "        text-align: right;\n",
       "    }\n",
       "</style>\n",
       "<table border=\"1\" class=\"dataframe\">\n",
       "  <thead>\n",
       "    <tr style=\"text-align: right;\">\n",
       "      <th></th>\n",
       "      <th>name</th>\n",
       "      <th>platform</th>\n",
       "      <th>year_of_release</th>\n",
       "      <th>genre</th>\n",
       "      <th>na_sales</th>\n",
       "      <th>eu_sales</th>\n",
       "      <th>jp_sales</th>\n",
       "      <th>other_sales</th>\n",
       "      <th>critic_score</th>\n",
       "      <th>user_score</th>\n",
       "      <th>rating</th>\n",
       "    </tr>\n",
       "  </thead>\n",
       "  <tbody>\n",
       "    <tr>\n",
       "      <td>456</td>\n",
       "      <td>LEGO Batman: The Videogame</td>\n",
       "      <td>Wii</td>\n",
       "      <td>NaN</td>\n",
       "      <td>Action</td>\n",
       "      <td>1.80</td>\n",
       "      <td>0.97</td>\n",
       "      <td>0.00</td>\n",
       "      <td>0.29</td>\n",
       "      <td>74.0</td>\n",
       "      <td>7.9</td>\n",
       "      <td>E10+</td>\n",
       "    </tr>\n",
       "    <tr>\n",
       "      <td>609</td>\n",
       "      <td>Space Invaders</td>\n",
       "      <td>2600</td>\n",
       "      <td>NaN</td>\n",
       "      <td>Shooter</td>\n",
       "      <td>2.36</td>\n",
       "      <td>0.14</td>\n",
       "      <td>0.00</td>\n",
       "      <td>0.03</td>\n",
       "      <td>NaN</td>\n",
       "      <td>NaN</td>\n",
       "      <td>NaN</td>\n",
       "    </tr>\n",
       "    <tr>\n",
       "      <td>627</td>\n",
       "      <td>Rock Band</td>\n",
       "      <td>X360</td>\n",
       "      <td>NaN</td>\n",
       "      <td>Misc</td>\n",
       "      <td>1.93</td>\n",
       "      <td>0.33</td>\n",
       "      <td>0.00</td>\n",
       "      <td>0.21</td>\n",
       "      <td>92.0</td>\n",
       "      <td>8.2</td>\n",
       "      <td>T</td>\n",
       "    </tr>\n",
       "    <tr>\n",
       "      <td>657</td>\n",
       "      <td>Frogger's Adventures: Temple of the Frog</td>\n",
       "      <td>GBA</td>\n",
       "      <td>NaN</td>\n",
       "      <td>Adventure</td>\n",
       "      <td>2.15</td>\n",
       "      <td>0.18</td>\n",
       "      <td>0.00</td>\n",
       "      <td>0.07</td>\n",
       "      <td>73.0</td>\n",
       "      <td>tbd</td>\n",
       "      <td>E</td>\n",
       "    </tr>\n",
       "    <tr>\n",
       "      <td>677</td>\n",
       "      <td>LEGO Indiana Jones: The Original Adventures</td>\n",
       "      <td>Wii</td>\n",
       "      <td>NaN</td>\n",
       "      <td>Action</td>\n",
       "      <td>1.51</td>\n",
       "      <td>0.61</td>\n",
       "      <td>0.00</td>\n",
       "      <td>0.21</td>\n",
       "      <td>78.0</td>\n",
       "      <td>6.6</td>\n",
       "      <td>E10+</td>\n",
       "    </tr>\n",
       "    <tr>\n",
       "      <td>...</td>\n",
       "      <td>...</td>\n",
       "      <td>...</td>\n",
       "      <td>...</td>\n",
       "      <td>...</td>\n",
       "      <td>...</td>\n",
       "      <td>...</td>\n",
       "      <td>...</td>\n",
       "      <td>...</td>\n",
       "      <td>...</td>\n",
       "      <td>...</td>\n",
       "      <td>...</td>\n",
       "    </tr>\n",
       "    <tr>\n",
       "      <td>16346</td>\n",
       "      <td>Agarest Senki: Re-appearance</td>\n",
       "      <td>PS3</td>\n",
       "      <td>NaN</td>\n",
       "      <td>Role-Playing</td>\n",
       "      <td>0.00</td>\n",
       "      <td>0.00</td>\n",
       "      <td>0.01</td>\n",
       "      <td>0.00</td>\n",
       "      <td>NaN</td>\n",
       "      <td>NaN</td>\n",
       "      <td>NaN</td>\n",
       "    </tr>\n",
       "    <tr>\n",
       "      <td>16403</td>\n",
       "      <td>Freaky Flyers</td>\n",
       "      <td>GC</td>\n",
       "      <td>NaN</td>\n",
       "      <td>Racing</td>\n",
       "      <td>0.01</td>\n",
       "      <td>0.00</td>\n",
       "      <td>0.00</td>\n",
       "      <td>0.00</td>\n",
       "      <td>69.0</td>\n",
       "      <td>6.5</td>\n",
       "      <td>T</td>\n",
       "    </tr>\n",
       "    <tr>\n",
       "      <td>16446</td>\n",
       "      <td>Inversion</td>\n",
       "      <td>PC</td>\n",
       "      <td>NaN</td>\n",
       "      <td>Shooter</td>\n",
       "      <td>0.01</td>\n",
       "      <td>0.00</td>\n",
       "      <td>0.00</td>\n",
       "      <td>0.00</td>\n",
       "      <td>59.0</td>\n",
       "      <td>6.7</td>\n",
       "      <td>M</td>\n",
       "    </tr>\n",
       "    <tr>\n",
       "      <td>16456</td>\n",
       "      <td>Hakuouki: Shinsengumi Kitan</td>\n",
       "      <td>PS3</td>\n",
       "      <td>NaN</td>\n",
       "      <td>Adventure</td>\n",
       "      <td>0.01</td>\n",
       "      <td>0.00</td>\n",
       "      <td>0.00</td>\n",
       "      <td>0.00</td>\n",
       "      <td>NaN</td>\n",
       "      <td>NaN</td>\n",
       "      <td>NaN</td>\n",
       "    </tr>\n",
       "    <tr>\n",
       "      <td>16520</td>\n",
       "      <td>Virtua Quest</td>\n",
       "      <td>GC</td>\n",
       "      <td>NaN</td>\n",
       "      <td>Role-Playing</td>\n",
       "      <td>0.01</td>\n",
       "      <td>0.00</td>\n",
       "      <td>0.00</td>\n",
       "      <td>0.00</td>\n",
       "      <td>55.0</td>\n",
       "      <td>5.5</td>\n",
       "      <td>T</td>\n",
       "    </tr>\n",
       "  </tbody>\n",
       "</table>\n",
       "<p>249 rows × 11 columns</p>\n",
       "</div>"
      ],
      "text/plain": [
       "                                              name platform  year_of_release  \\\n",
       "456                     LEGO Batman: The Videogame      Wii              NaN   \n",
       "609                                 Space Invaders     2600              NaN   \n",
       "627                                      Rock Band     X360              NaN   \n",
       "657       Frogger's Adventures: Temple of the Frog      GBA              NaN   \n",
       "677    LEGO Indiana Jones: The Original Adventures      Wii              NaN   \n",
       "...                                            ...      ...              ...   \n",
       "16346                 Agarest Senki: Re-appearance      PS3              NaN   \n",
       "16403                                Freaky Flyers       GC              NaN   \n",
       "16446                                    Inversion       PC              NaN   \n",
       "16456                  Hakuouki: Shinsengumi Kitan      PS3              NaN   \n",
       "16520                                 Virtua Quest       GC              NaN   \n",
       "\n",
       "              genre  na_sales  eu_sales  jp_sales  other_sales  critic_score  \\\n",
       "456          Action      1.80      0.97      0.00         0.29          74.0   \n",
       "609         Shooter      2.36      0.14      0.00         0.03           NaN   \n",
       "627            Misc      1.93      0.33      0.00         0.21          92.0   \n",
       "657       Adventure      2.15      0.18      0.00         0.07          73.0   \n",
       "677          Action      1.51      0.61      0.00         0.21          78.0   \n",
       "...             ...       ...       ...       ...          ...           ...   \n",
       "16346  Role-Playing      0.00      0.00      0.01         0.00           NaN   \n",
       "16403        Racing      0.01      0.00      0.00         0.00          69.0   \n",
       "16446       Shooter      0.01      0.00      0.00         0.00          59.0   \n",
       "16456     Adventure      0.01      0.00      0.00         0.00           NaN   \n",
       "16520  Role-Playing      0.01      0.00      0.00         0.00          55.0   \n",
       "\n",
       "      user_score rating  \n",
       "456          7.9   E10+  \n",
       "609          NaN    NaN  \n",
       "627          8.2      T  \n",
       "657          tbd      E  \n",
       "677          6.6   E10+  \n",
       "...          ...    ...  \n",
       "16346        NaN    NaN  \n",
       "16403        6.5      T  \n",
       "16446        6.7      M  \n",
       "16456        NaN    NaN  \n",
       "16520        5.5      T  \n",
       "\n",
       "[249 rows x 11 columns]"
      ]
     },
     "execution_count": 16,
     "metadata": {},
     "output_type": "execute_result"
    }
   ],
   "source": [
    "# отбираем строки с пропусками данных в столбце year_of_release \n",
    "df[df['year_of_release'].isna()]"
   ]
  },
  {
   "cell_type": "markdown",
   "metadata": {},
   "source": [
    "Теперь у нас нет данных о годе выпуска 249 игр. Это меньше, чем после предудущей проверки, значит замены были выполнены успешно.  \n",
    "Найти года релиза игр для оставшихся 249 строк, возможно, получится с помощью парсинга страниц в интернете, но на данном этапе посчитаем возможным просто избавиться от этих строк и продолжить работу с имеющимся датасетом. т.к. 249 строк составляет всего порядка 1.49% от общего количества данных, что не должно в значительной степени сказаться на результатах исследования. Если же на каком-то этапе мы поймем, что данных нам будет не хватать, то мы вернемся к вопросу парсинга страниц в интернете для поиска недостающей информации."
   ]
  },
  {
   "cell_type": "code",
   "execution_count": 17,
   "metadata": {},
   "outputs": [],
   "source": [
    "# удаляем строки с пропусками данных в столбце year_of_release \n",
    "# делаем сброс индексов\n",
    "df = df.dropna(subset=['year_of_release']).reset_index(drop=True)"
   ]
  },
  {
   "cell_type": "code",
   "execution_count": 18,
   "metadata": {},
   "outputs": [
    {
     "data": {
      "text/plain": [
       "name                  0\n",
       "platform              0\n",
       "year_of_release       0\n",
       "genre                 0\n",
       "na_sales              0\n",
       "eu_sales              0\n",
       "jp_sales              0\n",
       "other_sales           0\n",
       "critic_score       8466\n",
       "user_score         6610\n",
       "rating             6682\n",
       "dtype: int64"
      ]
     },
     "execution_count": 18,
     "metadata": {},
     "output_type": "execute_result"
    }
   ],
   "source": [
    "# проверяем суммарное количество пропусков в таблице df\n",
    "df.isnull().sum()"
   ]
  },
  {
   "cell_type": "markdown",
   "metadata": {},
   "source": [
    "Пропуски данных в столбце year_of_release теперь отсутствуют"
   ]
  },
  {
   "cell_type": "markdown",
   "metadata": {},
   "source": [
    "**Обработка пропусков данных в столбце 'critic_score'**"
   ]
  },
  {
   "cell_type": "markdown",
   "metadata": {},
   "source": [
    "Посмотрим на пропуски данных в столбце critic_score"
   ]
  },
  {
   "cell_type": "code",
   "execution_count": 19,
   "metadata": {},
   "outputs": [
    {
     "data": {
      "text/html": [
       "<div>\n",
       "<style scoped>\n",
       "    .dataframe tbody tr th:only-of-type {\n",
       "        vertical-align: middle;\n",
       "    }\n",
       "\n",
       "    .dataframe tbody tr th {\n",
       "        vertical-align: top;\n",
       "    }\n",
       "\n",
       "    .dataframe thead th {\n",
       "        text-align: right;\n",
       "    }\n",
       "</style>\n",
       "<table border=\"1\" class=\"dataframe\">\n",
       "  <thead>\n",
       "    <tr style=\"text-align: right;\">\n",
       "      <th></th>\n",
       "      <th>name</th>\n",
       "      <th>platform</th>\n",
       "      <th>year_of_release</th>\n",
       "      <th>genre</th>\n",
       "      <th>na_sales</th>\n",
       "      <th>eu_sales</th>\n",
       "      <th>jp_sales</th>\n",
       "      <th>other_sales</th>\n",
       "      <th>critic_score</th>\n",
       "      <th>user_score</th>\n",
       "      <th>rating</th>\n",
       "    </tr>\n",
       "  </thead>\n",
       "  <tbody>\n",
       "    <tr>\n",
       "      <td>1</td>\n",
       "      <td>Super Mario Bros.</td>\n",
       "      <td>NES</td>\n",
       "      <td>1985.0</td>\n",
       "      <td>Platform</td>\n",
       "      <td>29.08</td>\n",
       "      <td>3.58</td>\n",
       "      <td>6.81</td>\n",
       "      <td>0.77</td>\n",
       "      <td>NaN</td>\n",
       "      <td>NaN</td>\n",
       "      <td>NaN</td>\n",
       "    </tr>\n",
       "    <tr>\n",
       "      <td>4</td>\n",
       "      <td>Pokemon Red/Pokemon Blue</td>\n",
       "      <td>GB</td>\n",
       "      <td>1996.0</td>\n",
       "      <td>Role-Playing</td>\n",
       "      <td>11.27</td>\n",
       "      <td>8.89</td>\n",
       "      <td>10.22</td>\n",
       "      <td>1.00</td>\n",
       "      <td>NaN</td>\n",
       "      <td>NaN</td>\n",
       "      <td>NaN</td>\n",
       "    </tr>\n",
       "    <tr>\n",
       "      <td>5</td>\n",
       "      <td>Tetris</td>\n",
       "      <td>GB</td>\n",
       "      <td>1989.0</td>\n",
       "      <td>Puzzle</td>\n",
       "      <td>23.20</td>\n",
       "      <td>2.26</td>\n",
       "      <td>4.22</td>\n",
       "      <td>0.58</td>\n",
       "      <td>NaN</td>\n",
       "      <td>NaN</td>\n",
       "      <td>NaN</td>\n",
       "    </tr>\n",
       "    <tr>\n",
       "      <td>9</td>\n",
       "      <td>Duck Hunt</td>\n",
       "      <td>NES</td>\n",
       "      <td>1984.0</td>\n",
       "      <td>Shooter</td>\n",
       "      <td>26.93</td>\n",
       "      <td>0.63</td>\n",
       "      <td>0.28</td>\n",
       "      <td>0.47</td>\n",
       "      <td>NaN</td>\n",
       "      <td>NaN</td>\n",
       "      <td>NaN</td>\n",
       "    </tr>\n",
       "    <tr>\n",
       "      <td>10</td>\n",
       "      <td>Nintendogs</td>\n",
       "      <td>DS</td>\n",
       "      <td>2005.0</td>\n",
       "      <td>Simulation</td>\n",
       "      <td>9.05</td>\n",
       "      <td>10.95</td>\n",
       "      <td>1.93</td>\n",
       "      <td>2.74</td>\n",
       "      <td>NaN</td>\n",
       "      <td>NaN</td>\n",
       "      <td>NaN</td>\n",
       "    </tr>\n",
       "    <tr>\n",
       "      <td>...</td>\n",
       "      <td>...</td>\n",
       "      <td>...</td>\n",
       "      <td>...</td>\n",
       "      <td>...</td>\n",
       "      <td>...</td>\n",
       "      <td>...</td>\n",
       "      <td>...</td>\n",
       "      <td>...</td>\n",
       "      <td>...</td>\n",
       "      <td>...</td>\n",
       "      <td>...</td>\n",
       "    </tr>\n",
       "    <tr>\n",
       "      <td>16459</td>\n",
       "      <td>Samurai Warriors: Sanada Maru</td>\n",
       "      <td>PS3</td>\n",
       "      <td>2016.0</td>\n",
       "      <td>Action</td>\n",
       "      <td>0.00</td>\n",
       "      <td>0.00</td>\n",
       "      <td>0.01</td>\n",
       "      <td>0.00</td>\n",
       "      <td>NaN</td>\n",
       "      <td>NaN</td>\n",
       "      <td>NaN</td>\n",
       "    </tr>\n",
       "    <tr>\n",
       "      <td>16460</td>\n",
       "      <td>LMA Manager 2007</td>\n",
       "      <td>X360</td>\n",
       "      <td>2006.0</td>\n",
       "      <td>Sports</td>\n",
       "      <td>0.00</td>\n",
       "      <td>0.01</td>\n",
       "      <td>0.00</td>\n",
       "      <td>0.00</td>\n",
       "      <td>NaN</td>\n",
       "      <td>NaN</td>\n",
       "      <td>NaN</td>\n",
       "    </tr>\n",
       "    <tr>\n",
       "      <td>16461</td>\n",
       "      <td>Haitaka no Psychedelica</td>\n",
       "      <td>PSV</td>\n",
       "      <td>2016.0</td>\n",
       "      <td>Adventure</td>\n",
       "      <td>0.00</td>\n",
       "      <td>0.00</td>\n",
       "      <td>0.01</td>\n",
       "      <td>0.00</td>\n",
       "      <td>NaN</td>\n",
       "      <td>NaN</td>\n",
       "      <td>NaN</td>\n",
       "    </tr>\n",
       "    <tr>\n",
       "      <td>16462</td>\n",
       "      <td>Spirits &amp; Spells</td>\n",
       "      <td>GBA</td>\n",
       "      <td>2003.0</td>\n",
       "      <td>Platform</td>\n",
       "      <td>0.01</td>\n",
       "      <td>0.00</td>\n",
       "      <td>0.00</td>\n",
       "      <td>0.00</td>\n",
       "      <td>NaN</td>\n",
       "      <td>NaN</td>\n",
       "      <td>NaN</td>\n",
       "    </tr>\n",
       "    <tr>\n",
       "      <td>16463</td>\n",
       "      <td>Winning Post 8 2016</td>\n",
       "      <td>PSV</td>\n",
       "      <td>2016.0</td>\n",
       "      <td>Simulation</td>\n",
       "      <td>0.00</td>\n",
       "      <td>0.00</td>\n",
       "      <td>0.01</td>\n",
       "      <td>0.00</td>\n",
       "      <td>NaN</td>\n",
       "      <td>NaN</td>\n",
       "      <td>NaN</td>\n",
       "    </tr>\n",
       "  </tbody>\n",
       "</table>\n",
       "<p>8466 rows × 11 columns</p>\n",
       "</div>"
      ],
      "text/plain": [
       "                                name platform  year_of_release         genre  \\\n",
       "1                  Super Mario Bros.      NES           1985.0      Platform   \n",
       "4           Pokemon Red/Pokemon Blue       GB           1996.0  Role-Playing   \n",
       "5                             Tetris       GB           1989.0        Puzzle   \n",
       "9                          Duck Hunt      NES           1984.0       Shooter   \n",
       "10                        Nintendogs       DS           2005.0    Simulation   \n",
       "...                              ...      ...              ...           ...   \n",
       "16459  Samurai Warriors: Sanada Maru      PS3           2016.0        Action   \n",
       "16460               LMA Manager 2007     X360           2006.0        Sports   \n",
       "16461        Haitaka no Psychedelica      PSV           2016.0     Adventure   \n",
       "16462               Spirits & Spells      GBA           2003.0      Platform   \n",
       "16463            Winning Post 8 2016      PSV           2016.0    Simulation   \n",
       "\n",
       "       na_sales  eu_sales  jp_sales  other_sales  critic_score user_score  \\\n",
       "1         29.08      3.58      6.81         0.77           NaN        NaN   \n",
       "4         11.27      8.89     10.22         1.00           NaN        NaN   \n",
       "5         23.20      2.26      4.22         0.58           NaN        NaN   \n",
       "9         26.93      0.63      0.28         0.47           NaN        NaN   \n",
       "10         9.05     10.95      1.93         2.74           NaN        NaN   \n",
       "...         ...       ...       ...          ...           ...        ...   \n",
       "16459      0.00      0.00      0.01         0.00           NaN        NaN   \n",
       "16460      0.00      0.01      0.00         0.00           NaN        NaN   \n",
       "16461      0.00      0.00      0.01         0.00           NaN        NaN   \n",
       "16462      0.01      0.00      0.00         0.00           NaN        NaN   \n",
       "16463      0.00      0.00      0.01         0.00           NaN        NaN   \n",
       "\n",
       "      rating  \n",
       "1        NaN  \n",
       "4        NaN  \n",
       "5        NaN  \n",
       "9        NaN  \n",
       "10       NaN  \n",
       "...      ...  \n",
       "16459    NaN  \n",
       "16460    NaN  \n",
       "16461    NaN  \n",
       "16462    NaN  \n",
       "16463    NaN  \n",
       "\n",
       "[8466 rows x 11 columns]"
      ]
     },
     "execution_count": 19,
     "metadata": {},
     "output_type": "execute_result"
    }
   ],
   "source": [
    "# отбираем строки с пропусками данных в столбце critic_score\n",
    "df[df['critic_score'].isna()]"
   ]
  },
  {
   "cell_type": "markdown",
   "metadata": {},
   "source": [
    "У нас нет данных об оценке критиков для 8466 игр, что составляет порядка 51% игр."
   ]
  },
  {
   "cell_type": "markdown",
   "metadata": {},
   "source": [
    "Попробуем найти корреляцию в имеющихся данных между оценками критиков и:\n",
    "* годом выхода игры (вдруг в какие-то годы критики были более благосклонны?)\n",
    "* продажами в Северной Америке (na_sales)\n",
    "* продажами в Европе (eu_sales)\n",
    "* продажами в Японии (jp_sales)\n",
    "* продажами в остальных регионах (other_sales)\n",
    "* общими продажами по всему миру (global_sales)"
   ]
  },
  {
   "cell_type": "markdown",
   "metadata": {},
   "source": [
    "Находим коэффициент корреляции Пирсона (год выпуска игры VS оценка критиков)"
   ]
  },
  {
   "cell_type": "code",
   "execution_count": 20,
   "metadata": {
    "scrolled": false
   },
   "outputs": [
    {
     "data": {
      "text/plain": [
       "0.010353467558889768"
      ]
     },
     "execution_count": 20,
     "metadata": {},
     "output_type": "execute_result"
    }
   ],
   "source": [
    "df['year_of_release'].corr(df['critic_score'])"
   ]
  },
  {
   "cell_type": "markdown",
   "metadata": {},
   "source": [
    "Корреляция очень слабая. Практически полное ее отсутствие."
   ]
  },
  {
   "cell_type": "markdown",
   "metadata": {},
   "source": [
    "Подсчитаем общие продажи для каждой из игр по всему миру (создадим новый столбец global_sales)"
   ]
  },
  {
   "cell_type": "code",
   "execution_count": 21,
   "metadata": {},
   "outputs": [
    {
     "data": {
      "text/html": [
       "<div>\n",
       "<style scoped>\n",
       "    .dataframe tbody tr th:only-of-type {\n",
       "        vertical-align: middle;\n",
       "    }\n",
       "\n",
       "    .dataframe tbody tr th {\n",
       "        vertical-align: top;\n",
       "    }\n",
       "\n",
       "    .dataframe thead th {\n",
       "        text-align: right;\n",
       "    }\n",
       "</style>\n",
       "<table border=\"1\" class=\"dataframe\">\n",
       "  <thead>\n",
       "    <tr style=\"text-align: right;\">\n",
       "      <th></th>\n",
       "      <th>name</th>\n",
       "      <th>platform</th>\n",
       "      <th>year_of_release</th>\n",
       "      <th>genre</th>\n",
       "      <th>na_sales</th>\n",
       "      <th>eu_sales</th>\n",
       "      <th>jp_sales</th>\n",
       "      <th>other_sales</th>\n",
       "      <th>critic_score</th>\n",
       "      <th>user_score</th>\n",
       "      <th>rating</th>\n",
       "      <th>global_sales</th>\n",
       "    </tr>\n",
       "  </thead>\n",
       "  <tbody>\n",
       "    <tr>\n",
       "      <td>0</td>\n",
       "      <td>Wii Sports</td>\n",
       "      <td>Wii</td>\n",
       "      <td>2006.0</td>\n",
       "      <td>Sports</td>\n",
       "      <td>41.36</td>\n",
       "      <td>28.96</td>\n",
       "      <td>3.77</td>\n",
       "      <td>8.45</td>\n",
       "      <td>76.0</td>\n",
       "      <td>8</td>\n",
       "      <td>E</td>\n",
       "      <td>82.54</td>\n",
       "    </tr>\n",
       "    <tr>\n",
       "      <td>1</td>\n",
       "      <td>Super Mario Bros.</td>\n",
       "      <td>NES</td>\n",
       "      <td>1985.0</td>\n",
       "      <td>Platform</td>\n",
       "      <td>29.08</td>\n",
       "      <td>3.58</td>\n",
       "      <td>6.81</td>\n",
       "      <td>0.77</td>\n",
       "      <td>NaN</td>\n",
       "      <td>NaN</td>\n",
       "      <td>NaN</td>\n",
       "      <td>40.24</td>\n",
       "    </tr>\n",
       "    <tr>\n",
       "      <td>2</td>\n",
       "      <td>Mario Kart Wii</td>\n",
       "      <td>Wii</td>\n",
       "      <td>2008.0</td>\n",
       "      <td>Racing</td>\n",
       "      <td>15.68</td>\n",
       "      <td>12.76</td>\n",
       "      <td>3.79</td>\n",
       "      <td>3.29</td>\n",
       "      <td>82.0</td>\n",
       "      <td>8.3</td>\n",
       "      <td>E</td>\n",
       "      <td>35.52</td>\n",
       "    </tr>\n",
       "    <tr>\n",
       "      <td>3</td>\n",
       "      <td>Wii Sports Resort</td>\n",
       "      <td>Wii</td>\n",
       "      <td>2009.0</td>\n",
       "      <td>Sports</td>\n",
       "      <td>15.61</td>\n",
       "      <td>10.93</td>\n",
       "      <td>3.28</td>\n",
       "      <td>2.95</td>\n",
       "      <td>80.0</td>\n",
       "      <td>8</td>\n",
       "      <td>E</td>\n",
       "      <td>32.77</td>\n",
       "    </tr>\n",
       "    <tr>\n",
       "      <td>4</td>\n",
       "      <td>Pokemon Red/Pokemon Blue</td>\n",
       "      <td>GB</td>\n",
       "      <td>1996.0</td>\n",
       "      <td>Role-Playing</td>\n",
       "      <td>11.27</td>\n",
       "      <td>8.89</td>\n",
       "      <td>10.22</td>\n",
       "      <td>1.00</td>\n",
       "      <td>NaN</td>\n",
       "      <td>NaN</td>\n",
       "      <td>NaN</td>\n",
       "      <td>31.38</td>\n",
       "    </tr>\n",
       "    <tr>\n",
       "      <td>...</td>\n",
       "      <td>...</td>\n",
       "      <td>...</td>\n",
       "      <td>...</td>\n",
       "      <td>...</td>\n",
       "      <td>...</td>\n",
       "      <td>...</td>\n",
       "      <td>...</td>\n",
       "      <td>...</td>\n",
       "      <td>...</td>\n",
       "      <td>...</td>\n",
       "      <td>...</td>\n",
       "      <td>...</td>\n",
       "    </tr>\n",
       "    <tr>\n",
       "      <td>16459</td>\n",
       "      <td>Samurai Warriors: Sanada Maru</td>\n",
       "      <td>PS3</td>\n",
       "      <td>2016.0</td>\n",
       "      <td>Action</td>\n",
       "      <td>0.00</td>\n",
       "      <td>0.00</td>\n",
       "      <td>0.01</td>\n",
       "      <td>0.00</td>\n",
       "      <td>NaN</td>\n",
       "      <td>NaN</td>\n",
       "      <td>NaN</td>\n",
       "      <td>0.01</td>\n",
       "    </tr>\n",
       "    <tr>\n",
       "      <td>16460</td>\n",
       "      <td>LMA Manager 2007</td>\n",
       "      <td>X360</td>\n",
       "      <td>2006.0</td>\n",
       "      <td>Sports</td>\n",
       "      <td>0.00</td>\n",
       "      <td>0.01</td>\n",
       "      <td>0.00</td>\n",
       "      <td>0.00</td>\n",
       "      <td>NaN</td>\n",
       "      <td>NaN</td>\n",
       "      <td>NaN</td>\n",
       "      <td>0.01</td>\n",
       "    </tr>\n",
       "    <tr>\n",
       "      <td>16461</td>\n",
       "      <td>Haitaka no Psychedelica</td>\n",
       "      <td>PSV</td>\n",
       "      <td>2016.0</td>\n",
       "      <td>Adventure</td>\n",
       "      <td>0.00</td>\n",
       "      <td>0.00</td>\n",
       "      <td>0.01</td>\n",
       "      <td>0.00</td>\n",
       "      <td>NaN</td>\n",
       "      <td>NaN</td>\n",
       "      <td>NaN</td>\n",
       "      <td>0.01</td>\n",
       "    </tr>\n",
       "    <tr>\n",
       "      <td>16462</td>\n",
       "      <td>Spirits &amp; Spells</td>\n",
       "      <td>GBA</td>\n",
       "      <td>2003.0</td>\n",
       "      <td>Platform</td>\n",
       "      <td>0.01</td>\n",
       "      <td>0.00</td>\n",
       "      <td>0.00</td>\n",
       "      <td>0.00</td>\n",
       "      <td>NaN</td>\n",
       "      <td>NaN</td>\n",
       "      <td>NaN</td>\n",
       "      <td>0.01</td>\n",
       "    </tr>\n",
       "    <tr>\n",
       "      <td>16463</td>\n",
       "      <td>Winning Post 8 2016</td>\n",
       "      <td>PSV</td>\n",
       "      <td>2016.0</td>\n",
       "      <td>Simulation</td>\n",
       "      <td>0.00</td>\n",
       "      <td>0.00</td>\n",
       "      <td>0.01</td>\n",
       "      <td>0.00</td>\n",
       "      <td>NaN</td>\n",
       "      <td>NaN</td>\n",
       "      <td>NaN</td>\n",
       "      <td>0.01</td>\n",
       "    </tr>\n",
       "  </tbody>\n",
       "</table>\n",
       "<p>16464 rows × 12 columns</p>\n",
       "</div>"
      ],
      "text/plain": [
       "                                name platform  year_of_release         genre  \\\n",
       "0                         Wii Sports      Wii           2006.0        Sports   \n",
       "1                  Super Mario Bros.      NES           1985.0      Platform   \n",
       "2                     Mario Kart Wii      Wii           2008.0        Racing   \n",
       "3                  Wii Sports Resort      Wii           2009.0        Sports   \n",
       "4           Pokemon Red/Pokemon Blue       GB           1996.0  Role-Playing   \n",
       "...                              ...      ...              ...           ...   \n",
       "16459  Samurai Warriors: Sanada Maru      PS3           2016.0        Action   \n",
       "16460               LMA Manager 2007     X360           2006.0        Sports   \n",
       "16461        Haitaka no Psychedelica      PSV           2016.0     Adventure   \n",
       "16462               Spirits & Spells      GBA           2003.0      Platform   \n",
       "16463            Winning Post 8 2016      PSV           2016.0    Simulation   \n",
       "\n",
       "       na_sales  eu_sales  jp_sales  other_sales  critic_score user_score  \\\n",
       "0         41.36     28.96      3.77         8.45          76.0          8   \n",
       "1         29.08      3.58      6.81         0.77           NaN        NaN   \n",
       "2         15.68     12.76      3.79         3.29          82.0        8.3   \n",
       "3         15.61     10.93      3.28         2.95          80.0          8   \n",
       "4         11.27      8.89     10.22         1.00           NaN        NaN   \n",
       "...         ...       ...       ...          ...           ...        ...   \n",
       "16459      0.00      0.00      0.01         0.00           NaN        NaN   \n",
       "16460      0.00      0.01      0.00         0.00           NaN        NaN   \n",
       "16461      0.00      0.00      0.01         0.00           NaN        NaN   \n",
       "16462      0.01      0.00      0.00         0.00           NaN        NaN   \n",
       "16463      0.00      0.00      0.01         0.00           NaN        NaN   \n",
       "\n",
       "      rating  global_sales  \n",
       "0          E         82.54  \n",
       "1        NaN         40.24  \n",
       "2          E         35.52  \n",
       "3          E         32.77  \n",
       "4        NaN         31.38  \n",
       "...      ...           ...  \n",
       "16459    NaN          0.01  \n",
       "16460    NaN          0.01  \n",
       "16461    NaN          0.01  \n",
       "16462    NaN          0.01  \n",
       "16463    NaN          0.01  \n",
       "\n",
       "[16464 rows x 12 columns]"
      ]
     },
     "execution_count": 21,
     "metadata": {},
     "output_type": "execute_result"
    }
   ],
   "source": [
    "# суммируем продажи по регионам в новый столбец global_sales\n",
    "df['global_sales'] = df['na_sales'] + df['eu_sales'] + df['jp_sales'] + df['other_sales']\n",
    "\n",
    "df"
   ]
  },
  {
   "cell_type": "markdown",
   "metadata": {},
   "source": [
    "Находим коэффициент корреляции Пирсона (продажи в Северной Америке VS оценка критиков)"
   ]
  },
  {
   "cell_type": "code",
   "execution_count": 22,
   "metadata": {},
   "outputs": [
    {
     "data": {
      "text/plain": [
       "0.24081751449345798"
      ]
     },
     "execution_count": 22,
     "metadata": {},
     "output_type": "execute_result"
    }
   ],
   "source": [
    "df['na_sales'].corr(df['critic_score'])"
   ]
  },
  {
   "cell_type": "markdown",
   "metadata": {},
   "source": [
    "Корреляция слабая"
   ]
  },
  {
   "cell_type": "markdown",
   "metadata": {},
   "source": [
    "Находим коэффициент корреляции Пирсона (продажи в Европе VS оценка критиков)"
   ]
  },
  {
   "cell_type": "code",
   "execution_count": 23,
   "metadata": {},
   "outputs": [
    {
     "data": {
      "text/plain": [
       "0.22133464515023293"
      ]
     },
     "execution_count": 23,
     "metadata": {},
     "output_type": "execute_result"
    }
   ],
   "source": [
    "df['eu_sales'].corr(df['critic_score'])"
   ]
  },
  {
   "cell_type": "markdown",
   "metadata": {},
   "source": [
    "Корреляция слабая"
   ]
  },
  {
   "cell_type": "markdown",
   "metadata": {},
   "source": [
    "Находим коэффициент корреляции Пирсона (продажи в Японии VS оценка критиков)\n"
   ]
  },
  {
   "cell_type": "code",
   "execution_count": 24,
   "metadata": {},
   "outputs": [
    {
     "data": {
      "text/plain": [
       "0.15319263872334984"
      ]
     },
     "execution_count": 24,
     "metadata": {},
     "output_type": "execute_result"
    }
   ],
   "source": [
    "df['jp_sales'].corr(df['critic_score'])"
   ]
  },
  {
   "cell_type": "markdown",
   "metadata": {},
   "source": [
    "Корреляция очень слабая"
   ]
  },
  {
   "cell_type": "markdown",
   "metadata": {},
   "source": [
    "Находим коэффициент корреляции Пирсона (продажи в остальных регионах VS оценка критиков)\n"
   ]
  },
  {
   "cell_type": "code",
   "execution_count": 25,
   "metadata": {},
   "outputs": [
    {
     "data": {
      "text/plain": [
       "0.19891456778301803"
      ]
     },
     "execution_count": 25,
     "metadata": {},
     "output_type": "execute_result"
    }
   ],
   "source": [
    "df['other_sales'].corr(df['critic_score'])"
   ]
  },
  {
   "cell_type": "markdown",
   "metadata": {},
   "source": [
    "Корреляция очень слабая"
   ]
  },
  {
   "cell_type": "markdown",
   "metadata": {},
   "source": [
    "Находим коэффициент корреляции Пирсона (общие продажи во всем мире VS оценка критиков)"
   ]
  },
  {
   "cell_type": "code",
   "execution_count": 26,
   "metadata": {},
   "outputs": [
    {
     "data": {
      "text/plain": [
       "0.2458435644758743"
      ]
     },
     "execution_count": 26,
     "metadata": {},
     "output_type": "execute_result"
    }
   ],
   "source": [
    "df['global_sales'].corr(df['critic_score'])"
   ]
  },
  {
   "cell_type": "markdown",
   "metadata": {},
   "source": [
    "Корреляция слабая"
   ]
  },
  {
   "cell_type": "markdown",
   "metadata": {},
   "source": [
    "Во всех рассмотренных случаях мы получили либо очень слабую, либо просто слабую корреляцию между рассмотренными признаками и оценкой критиков:\n",
    "* минимальная 'год выпуска игры VS оценка критиков': 0.010..\n",
    "* максимальная 'общие продажи во всем мире VS оценка критиков': 0.245..\n",
    "\n",
    "Поэтому осреднять оценки критиков по одному из этих критериев для заполнения пропусков данных не представляется уместным."
   ]
  },
  {
   "cell_type": "markdown",
   "metadata": {},
   "source": [
    "**Обработка пропусков данных в столбце 'user_score'**"
   ]
  },
  {
   "cell_type": "markdown",
   "metadata": {},
   "source": [
    "Теперь рассмотрим пропуски данных в столбце user_score."
   ]
  },
  {
   "cell_type": "markdown",
   "metadata": {},
   "source": [
    "Сперва посмотрим на значения в столбце user_score."
   ]
  },
  {
   "cell_type": "code",
   "execution_count": 27,
   "metadata": {},
   "outputs": [
    {
     "data": {
      "text/plain": [
       "tbd    2378\n",
       "7.8     322\n",
       "8       285\n",
       "8.2     277\n",
       "8.3     252\n",
       "       ... \n",
       "1.5       2\n",
       "1.9       2\n",
       "1         2\n",
       "9.7       1\n",
       "0         1\n",
       "Name: user_score, Length: 96, dtype: int64"
      ]
     },
     "execution_count": 27,
     "metadata": {},
     "output_type": "execute_result"
    }
   ],
   "source": [
    "df.user_score.value_counts()"
   ]
  },
  {
   "cell_type": "markdown",
   "metadata": {},
   "source": [
    "Наиболее часто встречающееся значение это не численная оценка пользователя, а строка 'tbd', означающая 'еще не определена' (от английского to be defined). В данной ситуации можно воспользоваться свойством среднего: если в датасет добавить число равное среднему, то новое среднее датасета не изменится, таким образом, мы можем заменить tbd на среднее точно так же, как и в случиях отсутствия значений NaN."
   ]
  },
  {
   "cell_type": "code",
   "execution_count": 28,
   "metadata": {},
   "outputs": [],
   "source": [
    "# производим замену 'tbd' на NaN\n",
    "df = df.replace('tbd', np.nan)"
   ]
  },
  {
   "cell_type": "code",
   "execution_count": 29,
   "metadata": {},
   "outputs": [
    {
     "data": {
      "text/plain": [
       "name                  0\n",
       "platform              0\n",
       "year_of_release       0\n",
       "genre                 0\n",
       "na_sales              0\n",
       "eu_sales              0\n",
       "jp_sales              0\n",
       "other_sales           0\n",
       "critic_score       8466\n",
       "user_score         8988\n",
       "rating             6682\n",
       "global_sales          0\n",
       "dtype: int64"
      ]
     },
     "execution_count": 29,
     "metadata": {},
     "output_type": "execute_result"
    }
   ],
   "source": [
    "# проверяем успешность замены суммарным количеством пропусков в таблице df\n",
    "df.isnull().sum()"
   ]
  },
  {
   "cell_type": "markdown",
   "metadata": {},
   "source": [
    "Изменим тип данных 'user_score' со строки на числа с плавающей точкой"
   ]
  },
  {
   "cell_type": "code",
   "execution_count": 30,
   "metadata": {},
   "outputs": [],
   "source": [
    "df['user_score'] = df.user_score.astype('float')"
   ]
  },
  {
   "cell_type": "markdown",
   "metadata": {},
   "source": [
    "Проверяем успешность смены типа данных 'user_score'"
   ]
  },
  {
   "cell_type": "code",
   "execution_count": 31,
   "metadata": {},
   "outputs": [
    {
     "data": {
      "text/plain": [
       "name                object\n",
       "platform            object\n",
       "year_of_release    float64\n",
       "genre               object\n",
       "na_sales           float64\n",
       "eu_sales           float64\n",
       "jp_sales           float64\n",
       "other_sales        float64\n",
       "critic_score       float64\n",
       "user_score         float64\n",
       "rating              object\n",
       "global_sales       float64\n",
       "dtype: object"
      ]
     },
     "execution_count": 31,
     "metadata": {},
     "output_type": "execute_result"
    }
   ],
   "source": [
    "df.dtypes"
   ]
  },
  {
   "cell_type": "markdown",
   "metadata": {},
   "source": [
    "Тип данных был заменен с object на float64. Теперь мы можем проводить математические операции с данными столбца user_score."
   ]
  },
  {
   "cell_type": "markdown",
   "metadata": {},
   "source": [
    "Находим коэффициент корреляции Пирсона (год выпуска игры VS оценка пользователей)"
   ]
  },
  {
   "cell_type": "code",
   "execution_count": 32,
   "metadata": {},
   "outputs": [
    {
     "data": {
      "text/plain": [
       "-0.26826355995896833"
      ]
     },
     "execution_count": 32,
     "metadata": {},
     "output_type": "execute_result"
    }
   ],
   "source": [
    "df['year_of_release'].corr(df['user_score'])"
   ]
  },
  {
   "cell_type": "markdown",
   "metadata": {},
   "source": [
    "Имеем слабую отрицательную корреляцию."
   ]
  },
  {
   "cell_type": "markdown",
   "metadata": {},
   "source": [
    "Находим коэффициент корреляции Пирсона (продажи в Северной Америке VS оценка пользователей)"
   ]
  },
  {
   "cell_type": "code",
   "execution_count": 33,
   "metadata": {},
   "outputs": [
    {
     "data": {
      "text/plain": [
       "0.08570745189151244"
      ]
     },
     "execution_count": 33,
     "metadata": {},
     "output_type": "execute_result"
    }
   ],
   "source": [
    "df['na_sales'].corr(df['user_score'])"
   ]
  },
  {
   "cell_type": "markdown",
   "metadata": {},
   "source": [
    "Корреляция очень слабая"
   ]
  },
  {
   "cell_type": "markdown",
   "metadata": {},
   "source": [
    "Находим коэффициент корреляции Пирсона (продажи в Европе VS оценка пользователей)"
   ]
  },
  {
   "cell_type": "code",
   "execution_count": 34,
   "metadata": {},
   "outputs": [
    {
     "data": {
      "text/plain": [
       "0.05526729130424239"
      ]
     },
     "execution_count": 34,
     "metadata": {},
     "output_type": "execute_result"
    }
   ],
   "source": [
    "df['eu_sales'].corr(df['user_score'])"
   ]
  },
  {
   "cell_type": "markdown",
   "metadata": {},
   "source": [
    "Корреляция очень слабая"
   ]
  },
  {
   "cell_type": "markdown",
   "metadata": {},
   "source": [
    "Находим коэффициент корреляции Пирсона (продажи в Японии VS оценка пользователей)\n"
   ]
  },
  {
   "cell_type": "code",
   "execution_count": 35,
   "metadata": {},
   "outputs": [
    {
     "data": {
      "text/plain": [
       "0.12617410277268779"
      ]
     },
     "execution_count": 35,
     "metadata": {},
     "output_type": "execute_result"
    }
   ],
   "source": [
    "df['jp_sales'].corr(df['user_score'])"
   ]
  },
  {
   "cell_type": "markdown",
   "metadata": {},
   "source": [
    "Корреляция очень слабая"
   ]
  },
  {
   "cell_type": "markdown",
   "metadata": {},
   "source": [
    "Находим коэффициент корреляции Пирсона (продажи в остальных регионах VS оценка пользователей)\n"
   ]
  },
  {
   "cell_type": "code",
   "execution_count": 36,
   "metadata": {},
   "outputs": [
    {
     "data": {
      "text/plain": [
       "0.057011543401208904"
      ]
     },
     "execution_count": 36,
     "metadata": {},
     "output_type": "execute_result"
    }
   ],
   "source": [
    "df['other_sales'].corr(df['user_score'])"
   ]
  },
  {
   "cell_type": "markdown",
   "metadata": {},
   "source": [
    "Корреляция очень слабая"
   ]
  },
  {
   "cell_type": "markdown",
   "metadata": {},
   "source": [
    "Находим коэффициент корреляции Пирсона (общие продажи во всем мире VS оценка пользователей)"
   ]
  },
  {
   "cell_type": "code",
   "execution_count": 37,
   "metadata": {},
   "outputs": [
    {
     "data": {
      "text/plain": [
       "0.08797432650715238"
      ]
     },
     "execution_count": 37,
     "metadata": {},
     "output_type": "execute_result"
    }
   ],
   "source": [
    "df['global_sales'].corr(df['user_score'])"
   ]
  },
  {
   "cell_type": "markdown",
   "metadata": {},
   "source": [
    "Корреляция очень слабая"
   ]
  },
  {
   "cell_type": "markdown",
   "metadata": {},
   "source": [
    "Найдем коэффициент корреляции Пирсона (оценки критиков VS оценка пользователей)"
   ]
  },
  {
   "cell_type": "code",
   "execution_count": 38,
   "metadata": {},
   "outputs": [
    {
     "data": {
      "text/plain": [
       "0.5792013058120697"
      ]
     },
     "execution_count": 38,
     "metadata": {},
     "output_type": "execute_result"
    }
   ],
   "source": [
    "df['critic_score'].corr(df['user_score'])"
   ]
  },
  {
   "cell_type": "markdown",
   "metadata": {},
   "source": [
    "Корреляция средняя"
   ]
  },
  {
   "cell_type": "markdown",
   "metadata": {},
   "source": [
    "Посмотрим на распределения оценок пользователей и оценок критиков и их зависимости."
   ]
  },
  {
   "cell_type": "code",
   "execution_count": 39,
   "metadata": {},
   "outputs": [
    {
     "data": {
      "image/png": "[encoded data removed]",
      "text/plain": [
       "<Figure size 648x648 with 4 Axes>"
      ]
     },
     "metadata": {
      "needs_background": "light"
     },
     "output_type": "display_data"
    }
   ],
   "source": [
    "pd.plotting.scatter_matrix(df[['critic_score', 'user_score']], figsize=(9,9));"
   ]
  },
  {
   "cell_type": "markdown",
   "metadata": {},
   "source": [
    "Распределения близкие к нормальному. Корреляция средне выраженная."
   ]
  },
  {
   "cell_type": "markdown",
   "metadata": {},
   "source": [
    "Во всех рассмотренных случаях мы получили либо очень слабую, либо просто слабую корреляцию между рассмотренными признаками и оценкой пользователей. Среднюю кореляцию удалось получить только между оценками пользователей и оценками критиков:\n",
    "* минимальная 'продажив в Европе игры VS оценка пользователей': 0.055..\n",
    "* максимальная 'оценка критиков VS оценка пользователей': 0.579..\n",
    "\n",
    "Ни по одному из исследуемых признаков мы не получили высокой или очень высокой корреляции. Поэтому осреднять оценки пользователей по одному из этих критериев для заполнения пропусков данных не представляется уместным."
   ]
  },
  {
   "cell_type": "markdown",
   "metadata": {},
   "source": [
    "**Обработка пропусков данных в столбце 'rating'**"
   ]
  },
  {
   "cell_type": "markdown",
   "metadata": {},
   "source": [
    "Так как rating является номинативной переменной, наиболее разумным будет заменить пропущеные значения на 'unknown'"
   ]
  },
  {
   "cell_type": "code",
   "execution_count": 40,
   "metadata": {},
   "outputs": [],
   "source": [
    "# замена пропущенных значений в столбце 'rating' на строку 'unknown' специальным методом замены\n",
    "df['rating'] = df['rating'].fillna('unknown')"
   ]
  },
  {
   "cell_type": "code",
   "execution_count": 41,
   "metadata": {},
   "outputs": [
    {
     "data": {
      "text/plain": [
       "name                  0\n",
       "platform              0\n",
       "year_of_release       0\n",
       "genre                 0\n",
       "na_sales              0\n",
       "eu_sales              0\n",
       "jp_sales              0\n",
       "other_sales           0\n",
       "critic_score       8466\n",
       "user_score         8988\n",
       "rating                0\n",
       "global_sales          0\n",
       "dtype: int64"
      ]
     },
     "execution_count": 41,
     "metadata": {},
     "output_type": "execute_result"
    }
   ],
   "source": [
    "# <проверка: вычисление суммарного количества пропусков, выявленных в таблице df>\n",
    "df.isnull().sum()"
   ]
  },
  {
   "cell_type": "markdown",
   "metadata": {},
   "source": [
    "После обработки пропусков, пропущенные значения остались в столбцах critic_score и user_score. Данных для того, чтобы восстановить эти пропуски, у нас недостаточно. Также мы видим, что пропуски в столбцах часто встречаются вместе, т.е. нет данных по одним и тем же играм. Это с большой долей вероятности связано с тем, что эти данные просто не были загружены в таблицу. После написания кратких выводов можно переходить к следующему этапу."
   ]
  },
  {
   "cell_type": "markdown",
   "metadata": {},
   "source": [
    "**Выводы**"
   ]
  },
  {
   "cell_type": "markdown",
   "metadata": {},
   "source": [
    "На данном этапе были проведены замены названий столбцов на более удобные для дальнейшей работы, а также проведена работа по поиску и замене пропущенных значений.\n",
    "\n",
    "Нам встретились пропущенные значения в столбцах name, year_of_release, critic_score, user_score и rating. \n",
    "\n",
    "В столбце name было всего два пропуска, что не является критичным и может быть вызвано случайностью.  \n",
    "\n",
    "В столбце year_of_release количество пропусков также не было существено, часть значений удалось восстановить, взяв информацию непосредственно из названия игр, остальные данные были опущены, из-за их малого количества и не возможности повлиять на исследование в целом.  \n",
    "\n",
    "Пропуски значений critic_score и user_score составляют порядка половины данных и часто встречаются вместе. С большой вероятностью это говорит нам о том, что оценки для части игр не были выставлены или же просто не были загружены в таблицу. Была принята попытка восстановить пропущенные значения, найдя корреляцию с объемами продаж, однако, в результате корреляции оказались слабыми или очень слабыми. В итоге, пропуски решено было оставить, чтобы не искажать результаты исследования. Лучше работать с меньшим количеством данных, но хорошего качества.\n",
    "\n",
    "Пропуски значений рейтинга игр были заменены на строку 'unknown', т.к. это номинативная переменная и не представляется возможным произвести оценку ее действительных значений для той или иной игры.\n",
    "\n",
    "Заметная часть отсутствующих оценок и рейтингов была связана с годом релиза игры. Либо это 1980-ые годы, когда индустрия видео-игр не была столь развита, поэтому пропуски оценок и рейтингов кажутся логичными, либо это наиболее новые игры, которые еще не успели агрегировать оценки критиков и пользователей (включая, более 2000 строковых значений 'tbc').  \n",
    "\n",
    "Так же были посчитаны суммарные продажи во всех регионах с последующим сохранением значений в отдельный столбец 'global_sales'.  \n",
    "\n",
    "Данные подготовлены к дальнейшему анализу.\n"
   ]
  },
  {
   "cell_type": "markdown",
   "metadata": {},
   "source": [
    "## Этап 3. Исследовательский анализ данных"
   ]
  },
  {
   "cell_type": "markdown",
   "metadata": {},
   "source": [
    "Рассмотрим распределение игр по годам выпуска, оценим популярность игровых платформ в те или иные периоды времени, отберем актуальные данные для дальнейшей работы, построения прогнозов и выводов."
   ]
  },
  {
   "cell_type": "markdown",
   "metadata": {},
   "source": [
    "**Распределение игр по годам выпуска**"
   ]
  },
  {
   "cell_type": "markdown",
   "metadata": {},
   "source": [
    "Посмотрим, сколько игр выпускалось в разные годы."
   ]
  },
  {
   "cell_type": "code",
   "execution_count": 42,
   "metadata": {},
   "outputs": [],
   "source": [
    "# группировка данных и подсчет количества выпущенных игр по годам\n",
    "games_per_year = df.groupby('year_of_release', as_index=False).name \\\n",
    "                   .count() \\\n",
    "                   .rename(columns={'name': 'games_number'})"
   ]
  },
  {
   "cell_type": "markdown",
   "metadata": {},
   "source": [
    "Построим столбчатую диаграму распределения количества выпущенных игр по годам."
   ]
  },
  {
   "cell_type": "code",
   "execution_count": 43,
   "metadata": {},
   "outputs": [
    {
     "data": {
      "image/png": "[encoded data removed]",
      "text/plain": [
       "<Figure size 864x576 with 1 Axes>"
      ]
     },
     "metadata": {
      "needs_background": "light"
     },
     "output_type": "display_data"
    }
   ],
   "source": [
    "# размер фигуры\n",
    "plt.figure(figsize=(12, 8))\n",
    "\n",
    "# задание параметров построения графика\n",
    "ax = sns.barplot(y=games_per_year.year_of_release,\n",
    "                 x=games_per_year.games_number,\n",
    "                 orient='h',\n",
    "                 color='#e2b2ed'\n",
    "                 );\n",
    "\n",
    "# подписи осей и названия\n",
    "plt.xlabel('number of games released, pcs.')\n",
    "plt.title('Распределение количества выпущенных игр по годам');"
   ]
  },
  {
   "cell_type": "markdown",
   "metadata": {},
   "source": [
    "По графику видно, что основной объем игр был выпущен в первое десятилетие двадцать первого века с пиком в 2008-2009 годах. После 2011 года наблюдается значительный спад количества выпущенных игр (рост популярности социальных сетей?)."
   ]
  },
  {
   "cell_type": "markdown",
   "metadata": {},
   "source": [
    "Оценим накопительный процент количества вышедших игр"
   ]
  },
  {
   "cell_type": "code",
   "execution_count": 44,
   "metadata": {},
   "outputs": [
    {
     "data": {
      "text/html": [
       "<div>\n",
       "<style scoped>\n",
       "    .dataframe tbody tr th:only-of-type {\n",
       "        vertical-align: middle;\n",
       "    }\n",
       "\n",
       "    .dataframe tbody tr th {\n",
       "        vertical-align: top;\n",
       "    }\n",
       "\n",
       "    .dataframe thead th {\n",
       "        text-align: right;\n",
       "    }\n",
       "</style>\n",
       "<table border=\"1\" class=\"dataframe\">\n",
       "  <thead>\n",
       "    <tr style=\"text-align: right;\">\n",
       "      <th></th>\n",
       "      <th>year_of_release</th>\n",
       "      <th>games_number</th>\n",
       "      <th>prcnt</th>\n",
       "      <th>prcnt_sum</th>\n",
       "    </tr>\n",
       "  </thead>\n",
       "  <tbody>\n",
       "    <tr>\n",
       "      <td>0</td>\n",
       "      <td>1980.0</td>\n",
       "      <td>9</td>\n",
       "      <td>0.054665</td>\n",
       "      <td>0.054665</td>\n",
       "    </tr>\n",
       "    <tr>\n",
       "      <td>1</td>\n",
       "      <td>1981.0</td>\n",
       "      <td>46</td>\n",
       "      <td>0.279397</td>\n",
       "      <td>0.334062</td>\n",
       "    </tr>\n",
       "    <tr>\n",
       "      <td>2</td>\n",
       "      <td>1982.0</td>\n",
       "      <td>36</td>\n",
       "      <td>0.218659</td>\n",
       "      <td>0.552721</td>\n",
       "    </tr>\n",
       "    <tr>\n",
       "      <td>3</td>\n",
       "      <td>1983.0</td>\n",
       "      <td>17</td>\n",
       "      <td>0.103256</td>\n",
       "      <td>0.655977</td>\n",
       "    </tr>\n",
       "    <tr>\n",
       "      <td>4</td>\n",
       "      <td>1984.0</td>\n",
       "      <td>14</td>\n",
       "      <td>0.085034</td>\n",
       "      <td>0.741011</td>\n",
       "    </tr>\n",
       "    <tr>\n",
       "      <td>5</td>\n",
       "      <td>1985.0</td>\n",
       "      <td>14</td>\n",
       "      <td>0.085034</td>\n",
       "      <td>0.826045</td>\n",
       "    </tr>\n",
       "    <tr>\n",
       "      <td>6</td>\n",
       "      <td>1986.0</td>\n",
       "      <td>21</td>\n",
       "      <td>0.127551</td>\n",
       "      <td>0.953596</td>\n",
       "    </tr>\n",
       "    <tr>\n",
       "      <td>7</td>\n",
       "      <td>1987.0</td>\n",
       "      <td>16</td>\n",
       "      <td>0.097182</td>\n",
       "      <td>1.050777</td>\n",
       "    </tr>\n",
       "    <tr>\n",
       "      <td>8</td>\n",
       "      <td>1988.0</td>\n",
       "      <td>15</td>\n",
       "      <td>0.091108</td>\n",
       "      <td>1.141885</td>\n",
       "    </tr>\n",
       "    <tr>\n",
       "      <td>9</td>\n",
       "      <td>1989.0</td>\n",
       "      <td>17</td>\n",
       "      <td>0.103256</td>\n",
       "      <td>1.245141</td>\n",
       "    </tr>\n",
       "    <tr>\n",
       "      <td>10</td>\n",
       "      <td>1990.0</td>\n",
       "      <td>16</td>\n",
       "      <td>0.097182</td>\n",
       "      <td>1.342323</td>\n",
       "    </tr>\n",
       "    <tr>\n",
       "      <td>11</td>\n",
       "      <td>1991.0</td>\n",
       "      <td>41</td>\n",
       "      <td>0.249028</td>\n",
       "      <td>1.591351</td>\n",
       "    </tr>\n",
       "    <tr>\n",
       "      <td>12</td>\n",
       "      <td>1992.0</td>\n",
       "      <td>43</td>\n",
       "      <td>0.261176</td>\n",
       "      <td>1.852527</td>\n",
       "    </tr>\n",
       "    <tr>\n",
       "      <td>13</td>\n",
       "      <td>1993.0</td>\n",
       "      <td>60</td>\n",
       "      <td>0.364431</td>\n",
       "      <td>2.216958</td>\n",
       "    </tr>\n",
       "    <tr>\n",
       "      <td>14</td>\n",
       "      <td>1994.0</td>\n",
       "      <td>121</td>\n",
       "      <td>0.734937</td>\n",
       "      <td>2.951895</td>\n",
       "    </tr>\n",
       "    <tr>\n",
       "      <td>15</td>\n",
       "      <td>1995.0</td>\n",
       "      <td>219</td>\n",
       "      <td>1.330175</td>\n",
       "      <td>4.282070</td>\n",
       "    </tr>\n",
       "    <tr>\n",
       "      <td>16</td>\n",
       "      <td>1996.0</td>\n",
       "      <td>263</td>\n",
       "      <td>1.597425</td>\n",
       "      <td>5.879495</td>\n",
       "    </tr>\n",
       "    <tr>\n",
       "      <td>17</td>\n",
       "      <td>1997.0</td>\n",
       "      <td>289</td>\n",
       "      <td>1.755345</td>\n",
       "      <td>7.634840</td>\n",
       "    </tr>\n",
       "    <tr>\n",
       "      <td>18</td>\n",
       "      <td>1998.0</td>\n",
       "      <td>379</td>\n",
       "      <td>2.301992</td>\n",
       "      <td>9.936832</td>\n",
       "    </tr>\n",
       "    <tr>\n",
       "      <td>19</td>\n",
       "      <td>1999.0</td>\n",
       "      <td>339</td>\n",
       "      <td>2.059038</td>\n",
       "      <td>11.995870</td>\n",
       "    </tr>\n",
       "    <tr>\n",
       "      <td>20</td>\n",
       "      <td>2000.0</td>\n",
       "      <td>350</td>\n",
       "      <td>2.125850</td>\n",
       "      <td>14.121720</td>\n",
       "    </tr>\n",
       "    <tr>\n",
       "      <td>21</td>\n",
       "      <td>2001.0</td>\n",
       "      <td>482</td>\n",
       "      <td>2.927600</td>\n",
       "      <td>17.049320</td>\n",
       "    </tr>\n",
       "    <tr>\n",
       "      <td>22</td>\n",
       "      <td>2002.0</td>\n",
       "      <td>830</td>\n",
       "      <td>5.041302</td>\n",
       "      <td>22.090622</td>\n",
       "    </tr>\n",
       "    <tr>\n",
       "      <td>23</td>\n",
       "      <td>2003.0</td>\n",
       "      <td>779</td>\n",
       "      <td>4.731535</td>\n",
       "      <td>26.822157</td>\n",
       "    </tr>\n",
       "    <tr>\n",
       "      <td>24</td>\n",
       "      <td>2004.0</td>\n",
       "      <td>764</td>\n",
       "      <td>4.640428</td>\n",
       "      <td>31.462585</td>\n",
       "    </tr>\n",
       "    <tr>\n",
       "      <td>25</td>\n",
       "      <td>2005.0</td>\n",
       "      <td>941</td>\n",
       "      <td>5.715500</td>\n",
       "      <td>37.178086</td>\n",
       "    </tr>\n",
       "    <tr>\n",
       "      <td>26</td>\n",
       "      <td>2006.0</td>\n",
       "      <td>1009</td>\n",
       "      <td>6.128523</td>\n",
       "      <td>43.306608</td>\n",
       "    </tr>\n",
       "    <tr>\n",
       "      <td>27</td>\n",
       "      <td>2007.0</td>\n",
       "      <td>1200</td>\n",
       "      <td>7.288630</td>\n",
       "      <td>50.595238</td>\n",
       "    </tr>\n",
       "    <tr>\n",
       "      <td>28</td>\n",
       "      <td>2008.0</td>\n",
       "      <td>1429</td>\n",
       "      <td>8.679543</td>\n",
       "      <td>59.274781</td>\n",
       "    </tr>\n",
       "    <tr>\n",
       "      <td>29</td>\n",
       "      <td>2009.0</td>\n",
       "      <td>1426</td>\n",
       "      <td>8.661322</td>\n",
       "      <td>67.936103</td>\n",
       "    </tr>\n",
       "    <tr>\n",
       "      <td>30</td>\n",
       "      <td>2010.0</td>\n",
       "      <td>1255</td>\n",
       "      <td>7.622692</td>\n",
       "      <td>75.558795</td>\n",
       "    </tr>\n",
       "    <tr>\n",
       "      <td>31</td>\n",
       "      <td>2011.0</td>\n",
       "      <td>1138</td>\n",
       "      <td>6.912051</td>\n",
       "      <td>82.470845</td>\n",
       "    </tr>\n",
       "    <tr>\n",
       "      <td>32</td>\n",
       "      <td>2012.0</td>\n",
       "      <td>653</td>\n",
       "      <td>3.966229</td>\n",
       "      <td>86.437075</td>\n",
       "    </tr>\n",
       "    <tr>\n",
       "      <td>33</td>\n",
       "      <td>2013.0</td>\n",
       "      <td>544</td>\n",
       "      <td>3.304179</td>\n",
       "      <td>89.741254</td>\n",
       "    </tr>\n",
       "    <tr>\n",
       "      <td>34</td>\n",
       "      <td>2014.0</td>\n",
       "      <td>581</td>\n",
       "      <td>3.528912</td>\n",
       "      <td>93.270165</td>\n",
       "    </tr>\n",
       "    <tr>\n",
       "      <td>35</td>\n",
       "      <td>2015.0</td>\n",
       "      <td>606</td>\n",
       "      <td>3.680758</td>\n",
       "      <td>96.950923</td>\n",
       "    </tr>\n",
       "    <tr>\n",
       "      <td>36</td>\n",
       "      <td>2016.0</td>\n",
       "      <td>502</td>\n",
       "      <td>3.049077</td>\n",
       "      <td>100.000000</td>\n",
       "    </tr>\n",
       "  </tbody>\n",
       "</table>\n",
       "</div>"
      ],
      "text/plain": [
       "    year_of_release  games_number     prcnt   prcnt_sum\n",
       "0            1980.0             9  0.054665    0.054665\n",
       "1            1981.0            46  0.279397    0.334062\n",
       "2            1982.0            36  0.218659    0.552721\n",
       "3            1983.0            17  0.103256    0.655977\n",
       "4            1984.0            14  0.085034    0.741011\n",
       "5            1985.0            14  0.085034    0.826045\n",
       "6            1986.0            21  0.127551    0.953596\n",
       "7            1987.0            16  0.097182    1.050777\n",
       "8            1988.0            15  0.091108    1.141885\n",
       "9            1989.0            17  0.103256    1.245141\n",
       "10           1990.0            16  0.097182    1.342323\n",
       "11           1991.0            41  0.249028    1.591351\n",
       "12           1992.0            43  0.261176    1.852527\n",
       "13           1993.0            60  0.364431    2.216958\n",
       "14           1994.0           121  0.734937    2.951895\n",
       "15           1995.0           219  1.330175    4.282070\n",
       "16           1996.0           263  1.597425    5.879495\n",
       "17           1997.0           289  1.755345    7.634840\n",
       "18           1998.0           379  2.301992    9.936832\n",
       "19           1999.0           339  2.059038   11.995870\n",
       "20           2000.0           350  2.125850   14.121720\n",
       "21           2001.0           482  2.927600   17.049320\n",
       "22           2002.0           830  5.041302   22.090622\n",
       "23           2003.0           779  4.731535   26.822157\n",
       "24           2004.0           764  4.640428   31.462585\n",
       "25           2005.0           941  5.715500   37.178086\n",
       "26           2006.0          1009  6.128523   43.306608\n",
       "27           2007.0          1200  7.288630   50.595238\n",
       "28           2008.0          1429  8.679543   59.274781\n",
       "29           2009.0          1426  8.661322   67.936103\n",
       "30           2010.0          1255  7.622692   75.558795\n",
       "31           2011.0          1138  6.912051   82.470845\n",
       "32           2012.0           653  3.966229   86.437075\n",
       "33           2013.0           544  3.304179   89.741254\n",
       "34           2014.0           581  3.528912   93.270165\n",
       "35           2015.0           606  3.680758   96.950923\n",
       "36           2016.0           502  3.049077  100.000000"
      ]
     },
     "execution_count": 44,
     "metadata": {},
     "output_type": "execute_result"
    }
   ],
   "source": [
    "# подсчитываем процентное соотношение для конкретного года\n",
    "games_per_year['prcnt'] = 100 * games_per_year.games_number / games_per_year.games_number.sum()\n",
    "# подсчитываем накопительный процент\n",
    "games_per_year['prcnt_sum'] = games_per_year.prcnt.expanding(1).sum()\n",
    "\n",
    "# визуализация результатов\n",
    "games_per_year"
   ]
  },
  {
   "cell_type": "markdown",
   "metadata": {},
   "source": [
    "Построение накопительой диаграммы процента выпущенных игр."
   ]
  },
  {
   "cell_type": "code",
   "execution_count": 45,
   "metadata": {},
   "outputs": [
    {
     "data": {
      "image/png": "[encoded data removed]",
      "text/plain": [
       "<Figure size 864x576 with 1 Axes>"
      ]
     },
     "metadata": {
      "needs_background": "light"
     },
     "output_type": "display_data"
    }
   ],
   "source": [
    "# преобразование данных\n",
    "rnd = np.asarray(games_per_year.loc[:, 'prcnt_sum'].to_list())\n",
    "yrs = np.asarray(games_per_year.loc[:, 'year_of_release'].to_list())\n",
    "\n",
    "# построение и оформление графика\n",
    "fig, ax = plt.subplots(figsize=(12, 8))\n",
    "ax.stackplot(yrs, rnd, labels=['games releases'], color='#e2b2ed')\n",
    "ax.set_title('Накопительная диаграмма процента выпущенных игр')\n",
    "ax.legend(loc='upper left')\n",
    "ax.set_xlabel('Year of release')\n",
    "ax.set_ylabel('Comulative percentage, %')\n",
    "ax.set_xlim(xmin=yrs[0], xmax=yrs[-1])\n",
    "ax.set_ylim(ymin=0, ymax=100)\n",
    "fig.tight_layout()\n",
    " \n",
    "plt.show();"
   ]
  },
  {
   "cell_type": "markdown",
   "metadata": {},
   "source": [
    "По полученным данным хорошо видно, что за первую половину представленного периода (с 1983 по 1999 год) было выпущено порядка 11% от общего количества вышедших игр, а за вторую половину, оставшиеся 89%. Половина вышедших игр была выпущена в период с 2007 по 2016 годы. Таким образом, можно сделать вывод, что данные за 80-ые и 90-ые годы двадцатого века не имеют большого веса в количественном значении для имеющегося набора данных."
   ]
  },
  {
   "cell_type": "markdown",
   "metadata": {},
   "source": [
    "Посмотрим на динамику общих продаж."
   ]
  },
  {
   "cell_type": "code",
   "execution_count": 46,
   "metadata": {},
   "outputs": [],
   "source": [
    "# получаем необходимый срез данных\n",
    "df_sales = df.groupby('year_of_release', as_index=False) \\\n",
    "    .agg({'global_sales': 'sum'}) \\\n",
    "    .sort_values('global_sales', ascending=False)"
   ]
  },
  {
   "cell_type": "code",
   "execution_count": 47,
   "metadata": {},
   "outputs": [
    {
     "data": {
      "image/png": "[encoded data removed]",
      "text/plain": [
       "<Figure size 864x576 with 1 Axes>"
      ]
     },
     "metadata": {
      "needs_background": "light"
     },
     "output_type": "display_data"
    }
   ],
   "source": [
    "# размер фигуры\n",
    "plt.figure(figsize=(12, 8))\n",
    "\n",
    "# задание параметров построения графика\n",
    "ax = sns.barplot(y=df_sales.year_of_release,\n",
    "                 x=df_sales.global_sales,\n",
    "                 orient='h',\n",
    "                 color='#9054DE');\n",
    "\n",
    "# подписи осей и названия\n",
    "plt.xlabel('global sales, Million USD')\n",
    "plt.title('Динамика общих продаж игр за всю историю наблюдений');"
   ]
  },
  {
   "cell_type": "markdown",
   "metadata": {},
   "source": [
    "Динамика общих продаж в целом хорошо повторяет динамику выхода новых игр, с пиком, приходящимся на 2008-2009 годы и с последующим спадом до значений начала двухтысячных годов, когда отрасль компьютерных игр была в начале подъема."
   ]
  },
  {
   "cell_type": "markdown",
   "metadata": {},
   "source": [
    "Далее рассмотрим распределение продаж по платформам. Определим модные в прошлом и популярные сейчас платформы. Оценим жизненный цикл платформ."
   ]
  },
  {
   "cell_type": "markdown",
   "metadata": {},
   "source": [
    "**Изменение продаж по платформам**"
   ]
  },
  {
   "cell_type": "code",
   "execution_count": 48,
   "metadata": {},
   "outputs": [
    {
     "data": {
      "text/html": [
       "<div>\n",
       "<style scoped>\n",
       "    .dataframe tbody tr th:only-of-type {\n",
       "        vertical-align: middle;\n",
       "    }\n",
       "\n",
       "    .dataframe tbody tr th {\n",
       "        vertical-align: top;\n",
       "    }\n",
       "\n",
       "    .dataframe thead th {\n",
       "        text-align: right;\n",
       "    }\n",
       "</style>\n",
       "<table border=\"1\" class=\"dataframe\">\n",
       "  <thead>\n",
       "    <tr style=\"text-align: right;\">\n",
       "      <th></th>\n",
       "      <th>platform</th>\n",
       "      <th>global_sales</th>\n",
       "    </tr>\n",
       "  </thead>\n",
       "  <tbody>\n",
       "    <tr>\n",
       "      <td>16</td>\n",
       "      <td>PS2</td>\n",
       "      <td>1247.28</td>\n",
       "    </tr>\n",
       "    <tr>\n",
       "      <td>28</td>\n",
       "      <td>X360</td>\n",
       "      <td>961.88</td>\n",
       "    </tr>\n",
       "    <tr>\n",
       "      <td>17</td>\n",
       "      <td>PS3</td>\n",
       "      <td>931.34</td>\n",
       "    </tr>\n",
       "    <tr>\n",
       "      <td>26</td>\n",
       "      <td>Wii</td>\n",
       "      <td>892.37</td>\n",
       "    </tr>\n",
       "    <tr>\n",
       "      <td>4</td>\n",
       "      <td>DS</td>\n",
       "      <td>802.79</td>\n",
       "    </tr>\n",
       "    <tr>\n",
       "      <td>15</td>\n",
       "      <td>PS</td>\n",
       "      <td>729.04</td>\n",
       "    </tr>\n",
       "    <tr>\n",
       "      <td>18</td>\n",
       "      <td>PS4</td>\n",
       "      <td>314.14</td>\n",
       "    </tr>\n",
       "    <tr>\n",
       "      <td>6</td>\n",
       "      <td>GBA</td>\n",
       "      <td>312.88</td>\n",
       "    </tr>\n",
       "    <tr>\n",
       "      <td>19</td>\n",
       "      <td>PSP</td>\n",
       "      <td>290.38</td>\n",
       "    </tr>\n",
       "    <tr>\n",
       "      <td>2</td>\n",
       "      <td>3DS</td>\n",
       "      <td>257.81</td>\n",
       "    </tr>\n",
       "    <tr>\n",
       "      <td>13</td>\n",
       "      <td>PC</td>\n",
       "      <td>255.76</td>\n",
       "    </tr>\n",
       "    <tr>\n",
       "      <td>5</td>\n",
       "      <td>GB</td>\n",
       "      <td>254.43</td>\n",
       "    </tr>\n",
       "    <tr>\n",
       "      <td>29</td>\n",
       "      <td>XB</td>\n",
       "      <td>252.66</td>\n",
       "    </tr>\n",
       "    <tr>\n",
       "      <td>11</td>\n",
       "      <td>NES</td>\n",
       "      <td>251.05</td>\n",
       "    </tr>\n",
       "    <tr>\n",
       "      <td>10</td>\n",
       "      <td>N64</td>\n",
       "      <td>218.01</td>\n",
       "    </tr>\n",
       "    <tr>\n",
       "      <td>23</td>\n",
       "      <td>SNES</td>\n",
       "      <td>200.04</td>\n",
       "    </tr>\n",
       "    <tr>\n",
       "      <td>7</td>\n",
       "      <td>GC</td>\n",
       "      <td>197.03</td>\n",
       "    </tr>\n",
       "    <tr>\n",
       "      <td>30</td>\n",
       "      <td>XOne</td>\n",
       "      <td>159.32</td>\n",
       "    </tr>\n",
       "    <tr>\n",
       "      <td>0</td>\n",
       "      <td>2600</td>\n",
       "      <td>86.48</td>\n",
       "    </tr>\n",
       "    <tr>\n",
       "      <td>27</td>\n",
       "      <td>WiiU</td>\n",
       "      <td>82.19</td>\n",
       "    </tr>\n",
       "    <tr>\n",
       "      <td>20</td>\n",
       "      <td>PSV</td>\n",
       "      <td>53.81</td>\n",
       "    </tr>\n",
       "    <tr>\n",
       "      <td>21</td>\n",
       "      <td>SAT</td>\n",
       "      <td>33.59</td>\n",
       "    </tr>\n",
       "    <tr>\n",
       "      <td>8</td>\n",
       "      <td>GEN</td>\n",
       "      <td>28.35</td>\n",
       "    </tr>\n",
       "    <tr>\n",
       "      <td>3</td>\n",
       "      <td>DC</td>\n",
       "      <td>15.95</td>\n",
       "    </tr>\n",
       "    <tr>\n",
       "      <td>22</td>\n",
       "      <td>SCD</td>\n",
       "      <td>1.86</td>\n",
       "    </tr>\n",
       "    <tr>\n",
       "      <td>12</td>\n",
       "      <td>NG</td>\n",
       "      <td>1.44</td>\n",
       "    </tr>\n",
       "    <tr>\n",
       "      <td>25</td>\n",
       "      <td>WS</td>\n",
       "      <td>1.42</td>\n",
       "    </tr>\n",
       "    <tr>\n",
       "      <td>24</td>\n",
       "      <td>TG16</td>\n",
       "      <td>0.16</td>\n",
       "    </tr>\n",
       "    <tr>\n",
       "      <td>1</td>\n",
       "      <td>3DO</td>\n",
       "      <td>0.10</td>\n",
       "    </tr>\n",
       "    <tr>\n",
       "      <td>9</td>\n",
       "      <td>GG</td>\n",
       "      <td>0.04</td>\n",
       "    </tr>\n",
       "    <tr>\n",
       "      <td>14</td>\n",
       "      <td>PCFX</td>\n",
       "      <td>0.03</td>\n",
       "    </tr>\n",
       "  </tbody>\n",
       "</table>\n",
       "</div>"
      ],
      "text/plain": [
       "   platform  global_sales\n",
       "16      PS2       1247.28\n",
       "28     X360        961.88\n",
       "17      PS3        931.34\n",
       "26      Wii        892.37\n",
       "4        DS        802.79\n",
       "15       PS        729.04\n",
       "18      PS4        314.14\n",
       "6       GBA        312.88\n",
       "19      PSP        290.38\n",
       "2       3DS        257.81\n",
       "13       PC        255.76\n",
       "5        GB        254.43\n",
       "29       XB        252.66\n",
       "11      NES        251.05\n",
       "10      N64        218.01\n",
       "23     SNES        200.04\n",
       "7        GC        197.03\n",
       "30     XOne        159.32\n",
       "0      2600         86.48\n",
       "27     WiiU         82.19\n",
       "20      PSV         53.81\n",
       "21      SAT         33.59\n",
       "8       GEN         28.35\n",
       "3        DC         15.95\n",
       "22      SCD          1.86\n",
       "12       NG          1.44\n",
       "25       WS          1.42\n",
       "24     TG16          0.16\n",
       "1       3DO          0.10\n",
       "9        GG          0.04\n",
       "14     PCFX          0.03"
      ]
     },
     "execution_count": 48,
     "metadata": {},
     "output_type": "execute_result"
    }
   ],
   "source": [
    "# подсчет продаж с группировкой по платформам\n",
    "plt_sales = df.groupby('platform', as_index=False).agg({'global_sales': 'sum'}) \\\n",
    "    .sort_values('global_sales', ascending=False)\n",
    "\n",
    "# вывод результата\n",
    "plt_sales"
   ]
  },
  {
   "cell_type": "code",
   "execution_count": 49,
   "metadata": {},
   "outputs": [
    {
     "data": {
      "text/plain": [
       "<Figure size 864x576 with 0 Axes>"
      ]
     },
     "metadata": {},
     "output_type": "display_data"
    },
    {
     "data": {
      "image/png": "[encoded data removed]",
      "text/plain": [
       "<Figure size 864x576 with 1 Axes>"
      ]
     },
     "metadata": {
      "needs_background": "light"
     },
     "output_type": "display_data"
    }
   ],
   "source": [
    "# размер фигуры\n",
    "plt.figure(figsize=(12, 8))\n",
    "\n",
    "# задание параметров построения графика\n",
    "plt_sales.plot(x='platform',\n",
    "               y='global_sales',\n",
    "               kind='bar',\n",
    "               figsize=(12, 8),\n",
    "               title='Разбивка общих мировых продаж по платформам',\n",
    "               color='#85c2ed');\n",
    "\n",
    "# задание подписи оси у\n",
    "plt.ylabel('global sales, millions USD.');"
   ]
  },
  {
   "cell_type": "markdown",
   "metadata": {},
   "source": [
    "На графике отчетливо видны лидеры по общим мировым продажам: PS2, X360, PS3, Wii, DS, PS. Наблюдается отрыв в 2-4 раза по сравнению со следующей по выручке платформой PS4. Данные топ-6 платформ главный претендент для детального дальнейшего анализа. Однако, предварительно необходимо проверить актуальность тех или иных платформ.\t"
   ]
  },
  {
   "cell_type": "markdown",
   "metadata": {},
   "source": [
    "Для оценки динамики популярности платформ по годам отберем платформы суммарные продажи которых превышают медианное значение, т.е. возьмем первую половину ранжированного по объемам мировых продаж списка."
   ]
  },
  {
   "cell_type": "code",
   "execution_count": 50,
   "metadata": {},
   "outputs": [
    {
     "data": {
      "text/plain": [
       "['PS2',\n",
       " 'X360',\n",
       " 'PS3',\n",
       " 'Wii',\n",
       " 'DS',\n",
       " 'PS',\n",
       " 'PS4',\n",
       " 'GBA',\n",
       " 'PSP',\n",
       " '3DS',\n",
       " 'PC',\n",
       " 'GB',\n",
       " 'XB',\n",
       " 'NES',\n",
       " 'N64']"
      ]
     },
     "execution_count": 50,
     "metadata": {},
     "output_type": "execute_result"
    }
   ],
   "source": [
    "# создадим список названий платформ с общими мировыми продажами больше медианного значения\n",
    "platforms_above_median = []\n",
    "\n",
    "for row in plt_sales.itertuples():  # итерируемся по датафрейму\n",
    "    if row.global_sales > plt_sales.global_sales.median():  # сравниваем значения продаж с медианой\n",
    "        platforms_above_median.append(row.platform)  # добавляем название платформы в список\n",
    "\n",
    "# проверка результата (вывод списка названий платформ)\n",
    "platforms_above_median"
   ]
  },
  {
   "cell_type": "code",
   "execution_count": 51,
   "metadata": {},
   "outputs": [],
   "source": [
    "# группировка данных по годам и платформам и подсчет суммарных мировых продаж\n",
    "plt_sales_year = df.query('platform in @platforms_above_median') \\\n",
    "    .groupby(['year_of_release', 'platform'], as_index=False) \\\n",
    "    .agg({'global_sales': 'sum'}) \\\n",
    "    .sort_values('year_of_release', ascending=True)"
   ]
  },
  {
   "cell_type": "code",
   "execution_count": 52,
   "metadata": {},
   "outputs": [
    {
     "data": {
      "image/png": "[encoded data removed]",
      "text/plain": [
       "<Figure size 864x576 with 1 Axes>"
      ]
     },
     "metadata": {
      "needs_background": "light"
     },
     "output_type": "display_data"
    }
   ],
   "source": [
    "# размер фигуры\n",
    "plt.figure(figsize=(12, 8))\n",
    "\n",
    "# параметры графика\n",
    "sns.lineplot(x=plt_sales_year.year_of_release,\n",
    "             y=plt_sales_year.global_sales,\n",
    "             hue=plt_sales_year.platform);\n",
    "\n",
    "# задание подписи оси у\n",
    "plt.ylabel('global sales, millions USD.');\n",
    "plt.title('Оценка динамики продаж игр на различных платформах по годам');"
   ]
  },
  {
   "cell_type": "markdown",
   "metadata": {},
   "source": [
    "Построим график распределения жизненного цикла платформ. Рассмотрим основные статистики получившегося показателя."
   ]
  },
  {
   "cell_type": "code",
   "execution_count": 53,
   "metadata": {},
   "outputs": [
    {
     "data": {
      "image/png": "[encoded data removed]",
      "text/plain": [
       "<Figure size 144x576 with 1 Axes>"
      ]
     },
     "metadata": {
      "needs_background": "light"
     },
     "output_type": "display_data"
    }
   ],
   "source": [
    "# вычисляем продолжительность жизни платформы\n",
    "life_span = df.groupby('platform').year_of_release.max() - df.groupby('platform').year_of_release.min()\n",
    "\n",
    "# размечаем пространство для вывода графиков\n",
    "fig, (ax1) = plt.subplots(\n",
    "    nrows=1, ncols=1,\n",
    "    figsize=(2, 8)\n",
    ")\n",
    "\n",
    "# построение и оформление графика (боксплот + точки значений (swarmplot))\n",
    "sns.boxplot(y=life_span, color='grey', ax=ax1)\n",
    "sns.swarmplot(y=life_span, color='black')\n",
    "\n",
    "# подписи осей и  название графика\n",
    "ax1.set_title('Platform lifespan')\n",
    "ax1.set_xlabel('lifespan')\n",
    "ax1.set_ylabel('platform lifespan, years');"
   ]
  },
  {
   "cell_type": "markdown",
   "metadata": {},
   "source": [
    "По графику видно, что присутствуют два выброса, в остальном, большая часть данных помещается внутрь межквартильного размаха. Из-за наличия выбросов будем использовать медианное значение (6 лет), когда мы говорим о среднем значении жизненного цикла платформы."
   ]
  },
  {
   "cell_type": "code",
   "execution_count": 54,
   "metadata": {},
   "outputs": [
    {
     "data": {
      "text/plain": [
       "count    31.000000\n",
       "mean      7.612903\n",
       "std       6.998464\n",
       "min       0.000000\n",
       "25%       3.000000\n",
       "50%       6.000000\n",
       "75%      10.000000\n",
       "max      31.000000\n",
       "Name: year_of_release, dtype: float64"
      ]
     },
     "execution_count": 54,
     "metadata": {},
     "output_type": "execute_result"
    }
   ],
   "source": [
    "# основные статистики продолжительности жизненного цикла платформ\n",
    "life_span.describe()"
   ]
  },
  {
   "cell_type": "markdown",
   "metadata": {},
   "source": [
    "По полученным графикам хорошо видно, что средний цикл жизни платформы составляет 6 лет (исключением является только PC и DS). Такжы мы видим, что общий лидер по продажам PS2 уже полностью исчерпала себя и ее последние продажи были в 2011 году. Поэтому отбирать данные по размеру продаж за всю историю будет некорректно для наших задач. Мы таким образом сильно исказим результаты наших исследований. Поэтому примем другой критерий для нашей выборки: возьмем половину значения третьего квартиля (5 лет). Таким образом, в нашу выборку попадут как платформы на пике популярности, так и новые зарождающиеся платформы, которые будут популярны в будущем."
   ]
  },
  {
   "cell_type": "code",
   "execution_count": 55,
   "metadata": {},
   "outputs": [],
   "source": [
    "# группировка данных платформ за последние 5 лет по годам и платформам и подсчет суммарных мировых продаж\n",
    "plt_sales_5year = df.query('year_of_release > 2011') \\\n",
    "    .groupby(['year_of_release', 'platform'], as_index=False) \\\n",
    "    .agg({'global_sales': 'sum'}) \\\n",
    "    .sort_values('year_of_release', ascending=True)"
   ]
  },
  {
   "cell_type": "code",
   "execution_count": 56,
   "metadata": {},
   "outputs": [
    {
     "data": {
      "image/png": "[encoded data removed]",
      "text/plain": [
       "<Figure size 864x576 with 1 Axes>"
      ]
     },
     "metadata": {
      "needs_background": "light"
     },
     "output_type": "display_data"
    }
   ],
   "source": [
    "# размер фигуры\n",
    "plt.figure(figsize=(12, 8))\n",
    "\n",
    "# параметры графика\n",
    "sns.lineplot(x=plt_sales_5year.year_of_release,\n",
    "             y=plt_sales_5year.global_sales,\n",
    "             hue=plt_sales_5year.platform,\n",
    "             legend='full',\n",
    "             palette='nipy_spectral');\n",
    "\n",
    "# задание подписи оси у\n",
    "plt.ylabel('global sales, millions USD.');\n",
    "plt.title('Оценка динамики продаж игр на различных платформах по годам за период 2012-2016');"
   ]
  },
  {
   "cell_type": "markdown",
   "metadata": {},
   "source": [
    "Учитывая что у нас данные за 2016 год не полные, то сделав на это поправку, с помощью графика выше мы можем сказать что на данный момент по прежнему растущими и перспективными являются только две платформы: PS4 и XOne. Остатки популярности имеются у 3DS. Продажи игр на остальных платфорах незначительны или стремятся к нулю. Поэтому на данном этапе исследования дальше будем работать именно с этими тремя платформами: PS4, XOne, 3DS."
   ]
  },
  {
   "cell_type": "markdown",
   "metadata": {},
   "source": [
    "**Дальнейшее исследование платформ PS4, XOne, 3DS**"
   ]
  },
  {
   "cell_type": "markdown",
   "metadata": {},
   "source": [
    "Сделаем срез датафрейма, куда попадут данные за последние 5 лет только для трех выбранных платформ по результатам предыдущего шага. Посмотрим детальней на разбивку продаж по платформам."
   ]
  },
  {
   "cell_type": "code",
   "execution_count": 57,
   "metadata": {},
   "outputs": [],
   "source": [
    "# список названий трех наиболее актуальных платформ\n",
    "popular_platforms = ['PS4', 'XOne', '3DS']\n",
    "\n",
    "# делаем выборку по названию платформ и году\n",
    "df_3p = df.query('platform in @popular_platforms & year_of_release > 2011') \\\n",
    "          .reset_index(drop=True)"
   ]
  },
  {
   "cell_type": "code",
   "execution_count": 58,
   "metadata": {},
   "outputs": [
    {
     "data": {
      "image/png": "[encoded data removed]",
      "text/plain": [
       "<Figure size 432x576 with 3 Axes>"
      ]
     },
     "metadata": {
      "needs_background": "light"
     },
     "output_type": "display_data"
    }
   ],
   "source": [
    "# построение графика типа боксплот (глобальные продажи с разбивкой по платформам)\n",
    "df_3p.groupby(['platform']).boxplot(column='global_sales',\n",
    "                                    figsize=(6, 8),\n",
    "                                    layout=(1, 3));"
   ]
  },
  {
   "cell_type": "markdown",
   "metadata": {},
   "source": [
    "Дополнительно получим основные статистические показатели нашего среза"
   ]
  },
  {
   "cell_type": "code",
   "execution_count": 59,
   "metadata": {},
   "outputs": [
    {
     "data": {
      "text/html": [
       "<div>\n",
       "<style scoped>\n",
       "    .dataframe tbody tr th:only-of-type {\n",
       "        vertical-align: middle;\n",
       "    }\n",
       "\n",
       "    .dataframe tbody tr th {\n",
       "        vertical-align: top;\n",
       "    }\n",
       "\n",
       "    .dataframe thead th {\n",
       "        text-align: right;\n",
       "    }\n",
       "</style>\n",
       "<table border=\"1\" class=\"dataframe\">\n",
       "  <thead>\n",
       "    <tr style=\"text-align: right;\">\n",
       "      <th></th>\n",
       "      <th>count</th>\n",
       "      <th>mean</th>\n",
       "      <th>std</th>\n",
       "      <th>min</th>\n",
       "      <th>25%</th>\n",
       "      <th>50%</th>\n",
       "      <th>75%</th>\n",
       "      <th>max</th>\n",
       "    </tr>\n",
       "    <tr>\n",
       "      <th>platform</th>\n",
       "      <th></th>\n",
       "      <th></th>\n",
       "      <th></th>\n",
       "      <th></th>\n",
       "      <th></th>\n",
       "      <th></th>\n",
       "      <th></th>\n",
       "      <th></th>\n",
       "    </tr>\n",
       "  </thead>\n",
       "  <tbody>\n",
       "    <tr>\n",
       "      <td>3DS</td>\n",
       "      <td>396.0</td>\n",
       "      <td>0.491439</td>\n",
       "      <td>1.387161</td>\n",
       "      <td>0.01</td>\n",
       "      <td>0.04</td>\n",
       "      <td>0.11</td>\n",
       "      <td>0.3125</td>\n",
       "      <td>14.60</td>\n",
       "    </tr>\n",
       "    <tr>\n",
       "      <td>PS4</td>\n",
       "      <td>392.0</td>\n",
       "      <td>0.801378</td>\n",
       "      <td>1.609456</td>\n",
       "      <td>0.01</td>\n",
       "      <td>0.06</td>\n",
       "      <td>0.20</td>\n",
       "      <td>0.7300</td>\n",
       "      <td>14.63</td>\n",
       "    </tr>\n",
       "    <tr>\n",
       "      <td>XOne</td>\n",
       "      <td>247.0</td>\n",
       "      <td>0.645020</td>\n",
       "      <td>1.036139</td>\n",
       "      <td>0.01</td>\n",
       "      <td>0.06</td>\n",
       "      <td>0.22</td>\n",
       "      <td>0.6850</td>\n",
       "      <td>7.39</td>\n",
       "    </tr>\n",
       "  </tbody>\n",
       "</table>\n",
       "</div>"
      ],
      "text/plain": [
       "          count      mean       std   min   25%   50%     75%    max\n",
       "platform                                                            \n",
       "3DS       396.0  0.491439  1.387161  0.01  0.04  0.11  0.3125  14.60\n",
       "PS4       392.0  0.801378  1.609456  0.01  0.06  0.20  0.7300  14.63\n",
       "XOne      247.0  0.645020  1.036139  0.01  0.06  0.22  0.6850   7.39"
      ]
     },
     "execution_count": 59,
     "metadata": {},
     "output_type": "execute_result"
    }
   ],
   "source": [
    "# получение описательных статистик\n",
    "df_3p.groupby(['platform']).global_sales.describe()"
   ]
  },
  {
   "cell_type": "markdown",
   "metadata": {},
   "source": [
    "По полученном графику можем наблюдать, что средние значения для всех платформ примерно одинаковые. Так же мы можем сказать по наличию большого количества выбросов на графиках всех платформ, что основную выручку приносят небольшое количество игры-хитов. Их продажи в 11-20 раз превосходят средние значения общих продаж. Причем таких игр-хитов как по суммарному количеству, так и по амплитуде наблюдаемого эффекта больше на платформах 3DS и PS4."
   ]
  },
  {
   "cell_type": "markdown",
   "metadata": {},
   "source": [
    "Найдем игру с максимальными мировыми продажами для каждой из платформ."
   ]
  },
  {
   "cell_type": "code",
   "execution_count": 60,
   "metadata": {},
   "outputs": [
    {
     "data": {
      "text/plain": [
       "platform\n",
       "3DS      1\n",
       "PS4      0\n",
       "XOne    11\n",
       "Name: global_sales, dtype: int64"
      ]
     },
     "execution_count": 60,
     "metadata": {},
     "output_type": "execute_result"
    }
   ],
   "source": [
    "# отбираем индексы\n",
    "df_3p.groupby(['platform']).global_sales.idxmax()"
   ]
  },
  {
   "cell_type": "code",
   "execution_count": 61,
   "metadata": {},
   "outputs": [
    {
     "data": {
      "text/html": [
       "<div>\n",
       "<style scoped>\n",
       "    .dataframe tbody tr th:only-of-type {\n",
       "        vertical-align: middle;\n",
       "    }\n",
       "\n",
       "    .dataframe tbody tr th {\n",
       "        vertical-align: top;\n",
       "    }\n",
       "\n",
       "    .dataframe thead th {\n",
       "        text-align: right;\n",
       "    }\n",
       "</style>\n",
       "<table border=\"1\" class=\"dataframe\">\n",
       "  <thead>\n",
       "    <tr style=\"text-align: right;\">\n",
       "      <th></th>\n",
       "      <th>name</th>\n",
       "      <th>platform</th>\n",
       "      <th>year_of_release</th>\n",
       "      <th>genre</th>\n",
       "      <th>na_sales</th>\n",
       "      <th>eu_sales</th>\n",
       "      <th>jp_sales</th>\n",
       "      <th>other_sales</th>\n",
       "      <th>critic_score</th>\n",
       "      <th>user_score</th>\n",
       "      <th>rating</th>\n",
       "      <th>global_sales</th>\n",
       "    </tr>\n",
       "  </thead>\n",
       "  <tbody>\n",
       "    <tr>\n",
       "      <td>1</td>\n",
       "      <td>Pokemon X/Pokemon Y</td>\n",
       "      <td>3DS</td>\n",
       "      <td>2013.0</td>\n",
       "      <td>Role-Playing</td>\n",
       "      <td>5.28</td>\n",
       "      <td>4.19</td>\n",
       "      <td>4.35</td>\n",
       "      <td>0.78</td>\n",
       "      <td>NaN</td>\n",
       "      <td>NaN</td>\n",
       "      <td>unknown</td>\n",
       "      <td>14.60</td>\n",
       "    </tr>\n",
       "    <tr>\n",
       "      <td>0</td>\n",
       "      <td>Call of Duty: Black Ops 3</td>\n",
       "      <td>PS4</td>\n",
       "      <td>2015.0</td>\n",
       "      <td>Shooter</td>\n",
       "      <td>6.03</td>\n",
       "      <td>5.86</td>\n",
       "      <td>0.36</td>\n",
       "      <td>2.38</td>\n",
       "      <td>NaN</td>\n",
       "      <td>NaN</td>\n",
       "      <td>unknown</td>\n",
       "      <td>14.63</td>\n",
       "    </tr>\n",
       "    <tr>\n",
       "      <td>11</td>\n",
       "      <td>Call of Duty: Black Ops 3</td>\n",
       "      <td>XOne</td>\n",
       "      <td>2015.0</td>\n",
       "      <td>Shooter</td>\n",
       "      <td>4.59</td>\n",
       "      <td>2.11</td>\n",
       "      <td>0.01</td>\n",
       "      <td>0.68</td>\n",
       "      <td>NaN</td>\n",
       "      <td>NaN</td>\n",
       "      <td>unknown</td>\n",
       "      <td>7.39</td>\n",
       "    </tr>\n",
       "  </tbody>\n",
       "</table>\n",
       "</div>"
      ],
      "text/plain": [
       "                         name platform  year_of_release         genre  \\\n",
       "1         Pokemon X/Pokemon Y      3DS           2013.0  Role-Playing   \n",
       "0   Call of Duty: Black Ops 3      PS4           2015.0       Shooter   \n",
       "11  Call of Duty: Black Ops 3     XOne           2015.0       Shooter   \n",
       "\n",
       "    na_sales  eu_sales  jp_sales  other_sales  critic_score  user_score  \\\n",
       "1       5.28      4.19      4.35         0.78           NaN         NaN   \n",
       "0       6.03      5.86      0.36         2.38           NaN         NaN   \n",
       "11      4.59      2.11      0.01         0.68           NaN         NaN   \n",
       "\n",
       "     rating  global_sales  \n",
       "1   unknown         14.60  \n",
       "0   unknown         14.63  \n",
       "11  unknown          7.39  "
      ]
     },
     "execution_count": 61,
     "metadata": {},
     "output_type": "execute_result"
    }
   ],
   "source": [
    "# выводим наиболее продаваемые игры по отобранным индексам\n",
    "df_3p.iloc[[1, 0, 11]]"
   ]
  },
  {
   "cell_type": "markdown",
   "metadata": {},
   "source": [
    "Для платформ PS4 и XOne наиболее продаваемой игрой стала 'Call of Duty: Black Ops 3 (2015)' в то время как для 3DS такой игрой является 'Pokemon X/Pokemon Y' 2013 года выпуска, что подтверждает тезис о снижении со временем популярности данной платформы."
   ]
  },
  {
   "cell_type": "markdown",
   "metadata": {},
   "source": [
    "Посмотрим, как влияют на продажи внутри одной популярной платформы\n",
    "отзывы пользователей и критиков. Построим диаграммы рассеивания и посчитаем коэффициенты корреляции между отзывами и продажами."
   ]
  },
  {
   "cell_type": "code",
   "execution_count": 62,
   "metadata": {},
   "outputs": [
    {
     "data": {
      "image/png": "[encoded data removed]",
      "text/plain": [
       "<Figure size 720x360 with 2 Axes>"
      ]
     },
     "metadata": {
      "needs_background": "light"
     },
     "output_type": "display_data"
    }
   ],
   "source": [
    "# делаем срез данных по названию платформы\n",
    "df_ps4 = df_3p.query('platform == \"PS4\"')\n",
    "\n",
    "# размечаем пространство для вывода графиков\n",
    "fig, (ax1, ax2) = plt.subplots(\n",
    "    nrows=1, ncols=2,\n",
    "    figsize=(10, 5)\n",
    ")\n",
    "\n",
    "# построение и оформление графика рассеивания для отзывов критиков\n",
    "ax1.scatter(x=df_ps4.critic_score,\n",
    "            y=df_ps4.global_sales,\n",
    "            alpha=0.35,\n",
    "            color='black');\n",
    "ax1.set_title('PS4: critic_score VS global_sales')\n",
    "ax1.set_xlabel('critic score')\n",
    "ax1.set_ylabel('global sales, Million USD')\n",
    "\n",
    "# построение и оформление графика рассеивания для отзывов пользователей\n",
    "ax2.scatter(x=df_ps4.user_score,\n",
    "            y=df_ps4.global_sales,\n",
    "            alpha=0.35,\n",
    "            color='black');\n",
    "ax2.set_title('PS4: user_score VS global_sales')\n",
    "ax2.set_xlabel('user score')\n",
    "ax2.set_ylabel('global sales, Million USD');"
   ]
  },
  {
   "cell_type": "code",
   "execution_count": 63,
   "metadata": {},
   "outputs": [
    {
     "name": "stdout",
     "output_type": "stream",
     "text": [
      "PS4:\n",
      "Коэффициент корреляции глобальных продаж и оценки критиков: 0.407\n",
      "Коэффициент корреляции глобальных продаж и оценки пользователей: -0.032\n"
     ]
    }
   ],
   "source": [
    "# Подсчет и вывод на экран коэффициентов корреляции\n",
    "print('PS4:')\n",
    "print('Коэффициент корреляции глобальных продаж и оценки критиков:', round(df_ps4['global_sales'].corr(df_ps4['critic_score']), 3))\n",
    "print('Коэффициент корреляции глобальных продаж и оценки пользователей:', round(df_ps4['global_sales'].corr(df_ps4['user_score']), 3))"
   ]
  },
  {
   "cell_type": "code",
   "execution_count": 64,
   "metadata": {},
   "outputs": [
    {
     "data": {
      "image/png": "[encoded data removed]",
      "text/plain": [
       "<Figure size 720x360 with 2 Axes>"
      ]
     },
     "metadata": {
      "needs_background": "light"
     },
     "output_type": "display_data"
    }
   ],
   "source": [
    "# делаем срез данных по названию платформы\n",
    "df_xone = df_3p.query('platform == \"XOne\"')\n",
    "\n",
    "# размечаем пространство для вывода графиков\n",
    "fig, (ax1, ax2) = plt.subplots(\n",
    "    nrows=1, ncols=2,\n",
    "    figsize=(10, 5)\n",
    ")\n",
    "\n",
    "# построение и оформление графика рассеивания для отзывов критиков\n",
    "ax1.scatter(x=df_xone.critic_score,\n",
    "            y=df_xone.global_sales,\n",
    "            alpha=0.35,\n",
    "            color='green');\n",
    "ax1.set_title('XOne: critic_score VS global_sales')\n",
    "ax1.set_xlabel('critic score')\n",
    "ax1.set_ylabel('global sales, Million USD')\n",
    "\n",
    "# построение и оформление графика рассеивания для отзывов пользователей\n",
    "ax2.scatter(x=df_xone.user_score,\n",
    "            y=df_xone.global_sales,\n",
    "            alpha=0.35,\n",
    "            color='green');\n",
    "ax2.set_title('XOne: user_score VS global_sales')\n",
    "ax2.set_xlabel('user score')\n",
    "ax2.set_ylabel('global sales, Million USD');"
   ]
  },
  {
   "cell_type": "code",
   "execution_count": 65,
   "metadata": {},
   "outputs": [
    {
     "name": "stdout",
     "output_type": "stream",
     "text": [
      "XOne:\n",
      "Коэффициент корреляции глобальных продаж и оценки критиков: 0.417\n",
      "Коэффициент корреляции глобальных продаж и оценки пользователей: -0.069\n"
     ]
    }
   ],
   "source": [
    "# Подсчет и вывод на экран коэффициентов корреляции\n",
    "print('XOne:')\n",
    "print('Коэффициент корреляции глобальных продаж и оценки критиков:', round(df_xone['global_sales'].corr(df_xone['critic_score']), 3))\n",
    "print('Коэффициент корреляции глобальных продаж и оценки пользователей:', round(df_xone['global_sales'].corr(df_xone['user_score']), 3))"
   ]
  },
  {
   "cell_type": "code",
   "execution_count": 66,
   "metadata": {},
   "outputs": [
    {
     "data": {
      "image/png": "[encoded data removed]",
      "text/plain": [
       "<Figure size 720x360 with 2 Axes>"
      ]
     },
     "metadata": {
      "needs_background": "light"
     },
     "output_type": "display_data"
    }
   ],
   "source": [
    "# делаем срез данных по названию платформы\n",
    "df_3ds = df_3p.query('platform == \"3DS\"')\n",
    "\n",
    "# размечаем пространство для вывода графиков\n",
    "fig, (ax1, ax2) = plt.subplots(\n",
    "    nrows=1, ncols=2,\n",
    "    figsize=(10, 5)\n",
    ")\n",
    "\n",
    "# построение и оформление графика рассеивания для отзывов критиков\n",
    "ax1.scatter(x=df_3ds.critic_score,\n",
    "            y=df_3ds.global_sales,\n",
    "            alpha=0.35,\n",
    "            color='red');\n",
    "ax1.set_title('3DS: critic_score VS global_sales')\n",
    "ax1.set_xlabel('critic score')\n",
    "ax1.set_ylabel('global sales, Million USD')\n",
    "\n",
    "# построение и оформление графика рассеивания для отзывов пользователей\n",
    "ax2.scatter(x=df_3ds.user_score,\n",
    "            y=df_3ds.global_sales,\n",
    "            alpha=0.35,\n",
    "            color='red');\n",
    "ax2.set_title('3DS: user_score VS global_sales')\n",
    "ax2.set_xlabel('user score')\n",
    "ax2.set_ylabel('global sales, Million USD');"
   ]
  },
  {
   "cell_type": "code",
   "execution_count": 67,
   "metadata": {},
   "outputs": [
    {
     "name": "stdout",
     "output_type": "stream",
     "text": [
      "3DS:\n",
      "Коэффициент корреляции глобальных продаж и оценки критиков: 0.321\n",
      "Коэффициент корреляции глобальных продаж и оценки пользователей: 0.198\n"
     ]
    }
   ],
   "source": [
    "# Подсчет и вывод на экран коэффициентов корреляции\n",
    "print('3DS:')\n",
    "print('Коэффициент корреляции глобальных продаж и оценки критиков:', round(df_3ds['global_sales'].corr(df_3ds['critic_score']), 3))\n",
    "print('Коэффициент корреляции глобальных продаж и оценки пользователей:', round(df_3ds['global_sales'].corr(df_3ds['user_score']), 3))"
   ]
  },
  {
   "cell_type": "markdown",
   "metadata": {},
   "source": [
    "Корреляция между продажами--оценками критиков слабая. Корреляция между продажами оценками--пользователей очень слабая, практически равная нулю для PS4 и XOne. Данные выводы совпадают для всех трех рассмотренных платформ. Корреляция между продажами и оценками критиков для PS4 и XOne (порядка 0.41), а для 3DS (порядка 0.32)."
   ]
  },
  {
   "cell_type": "markdown",
   "metadata": {},
   "source": [
    "Дальше посмотрим на общее распределение игр по жанрам для отобранных ранее данных (платформы PS4, XOne, 3DS; данные, начиная с 2012 года)."
   ]
  },
  {
   "cell_type": "code",
   "execution_count": 68,
   "metadata": {},
   "outputs": [],
   "source": [
    "# групировка по жанрам, сортировка и выборка данных\n",
    "genres_sales_all = df_3p.groupby(['genre'], as_index=False).agg({'global_sales': 'sum'}).sort_values('global_sales', ascending=False)"
   ]
  },
  {
   "cell_type": "code",
   "execution_count": 69,
   "metadata": {},
   "outputs": [
    {
     "data": {
      "image/png": "[encoded data removed]",
      "text/plain": [
       "<Figure size 864x576 with 1 Axes>"
      ]
     },
     "metadata": {
      "needs_background": "light"
     },
     "output_type": "display_data"
    }
   ],
   "source": [
    "# размер фигуры\n",
    "plt.figure(figsize=(12, 8))\n",
    "\n",
    "# задание параметров построения графика\n",
    "ax = sns.barplot(y=genres_sales_all.genre,\n",
    "                 x=genres_sales_all.global_sales,\n",
    "                 orient='h',\n",
    "                 color='#e2b2ed',\n",
    "                 ci=None);\n",
    "\n",
    "# подписи осей и названия\n",
    "plt.xlabel('global sales, Million USD')\n",
    "plt.title('Общее распределение продаж игр по жанрам для PS4, XOne и 3DS начиная с 2012 года');"
   ]
  },
  {
   "cell_type": "markdown",
   "metadata": {},
   "source": [
    "Наиболее популярны жанры Action, Shooter и Role-Playing. Четвертое место занимает жанр Sports. Продажи по остальным играм отличаются в разы. Продажи игр самых не популярных жанров (Puzzle и Strategy) отличаются в десятки раз по сравнению с остальными жанрами."
   ]
  },
  {
   "cell_type": "markdown",
   "metadata": {},
   "source": [
    "Посмотрим популярность жанров с разбиением по платформам."
   ]
  },
  {
   "cell_type": "code",
   "execution_count": 70,
   "metadata": {},
   "outputs": [],
   "source": [
    "# групировка по жанрам и платформам, сортировка и выборка данных\n",
    "genres_sales = df_3p.groupby(['genre', 'platform'], as_index=False).agg({'global_sales': 'sum'}).sort_values('global_sales', ascending=False)"
   ]
  },
  {
   "cell_type": "code",
   "execution_count": 71,
   "metadata": {},
   "outputs": [
    {
     "data": {
      "image/png": "[encoded data removed]",
      "text/plain": [
       "<Figure size 864x576 with 1 Axes>"
      ]
     },
     "metadata": {
      "needs_background": "light"
     },
     "output_type": "display_data"
    }
   ],
   "source": [
    "# размер фигуры\n",
    "plt.figure(figsize=(12, 8))\n",
    "\n",
    "# задание параметров построения графика\n",
    "ax = sns.barplot(y=genres_sales.genre,\n",
    "                 x=genres_sales.global_sales,\n",
    "                 orient='h',\n",
    "                 color='#6925c2',\n",
    "                 palette=['#363636', '#f76f6f', '#49ba5a'],\n",
    "                 hue=genres_sales.platform,\n",
    "                 hue_order=['PS4', '3DS', 'XOne']\n",
    "                 );\n",
    "\n",
    "# подписи осей и названия\n",
    "plt.xlabel('global sales, Million USD')\n",
    "plt.title('Распределение продаж игр по жанрам для PS4, XOne и 3DS начиная с 2012 года');"
   ]
  },
  {
   "cell_type": "markdown",
   "metadata": {},
   "source": [
    "Интересно отметить, что по жанровым предпочтениям сильно выделяется платформа 3DS. Например, жанр Shooter на ней вовсе не популярен, в то время, как Role-Playing занимает первое место с большим отрывом. Жанр Sports (4 место в общем рейтинге) наиболее популярен среди пользователей PS4."
   ]
  },
  {
   "cell_type": "markdown",
   "metadata": {},
   "source": [
    "**Выводы**"
   ]
  },
  {
   "cell_type": "markdown",
   "metadata": {},
   "source": [
    "На данном этапе был проведен исследовательский анализ данных. \n",
    "Определно количество игр выпускаемых в различные периоды (половина представленных игр была выпущена с 2007 по 2016 годы).  \n",
    "\n",
    "Отмечен средний жизненный цикл популярности игровых платформ (порядка 6 лет). \n",
    "\n",
    "Выявлены три наиболее актуальные платформы на данный момент и в разрезе перспективы на следующие несколько лет (PS3, XOne, 3DS). \n",
    "Определена корреляция между оценками критиков и оценками пользователей. В целом оценки критиков слабо коррелируются с продажами, а оценки пользователй и продажи имеют очень слабую корреляцию (практически нулевую).\n",
    "\n",
    "Найдены наиболее популярные жанры игр за последние 5 лет (Action, Shooter и Role-Playing). Получена разбивка популярности жанров по платформам (предпочтения пользователей платформы 3DS выделяются на фоне других пользователей: например, таким пользователям совсем не интересен жанр игр Shooter, более чем популярный на других платформах). \n",
    "\n",
    "Также было отмечено, что большую часть общей выручки генерирует незначительное количество игр-хитов. Продажи которых в десятки раз превышают продажи среднестатистических по меркам общих мировых продаж игр."
   ]
  },
  {
   "cell_type": "markdown",
   "metadata": {},
   "source": [
    "## Этап 4. Портрет пользователя каждого региона"
   ]
  },
  {
   "cell_type": "markdown",
   "metadata": {},
   "source": [
    "Определим для пользователя каждого региона наиболее популярные платформы, наиболее популярные жанры, а также влияние рейтинга ESRB на продажи по регионам."
   ]
  },
  {
   "cell_type": "markdown",
   "metadata": {},
   "source": [
    "Возьмем наиболее актуальные данные, сделав выборку за последние 5 лет (начиная с 2012 года)."
   ]
  },
  {
   "cell_type": "code",
   "execution_count": 72,
   "metadata": {},
   "outputs": [],
   "source": [
    "# отбираем данные за последние пять лет\n",
    "df_4 = df[df['year_of_release'] > 2011].reset_index(drop=True)"
   ]
  },
  {
   "cell_type": "markdown",
   "metadata": {},
   "source": [
    "**Определим популярность платформ по регионам.**"
   ]
  },
  {
   "cell_type": "code",
   "execution_count": 73,
   "metadata": {},
   "outputs": [],
   "source": [
    "# получаем необходимый срез данных\n",
    "df_4_region = df_4[['platform', 'na_sales', 'eu_sales', 'jp_sales']] \\\n",
    "    .groupby('platform', as_index=False) \\\n",
    "    .agg({'na_sales': 'sum', 'eu_sales': 'sum', 'jp_sales': 'sum'}) \\\n",
    "    .melt(id_vars=['platform']) \\\n",
    "    .sort_values('value', ascending=False)"
   ]
  },
  {
   "cell_type": "code",
   "execution_count": 74,
   "metadata": {},
   "outputs": [
    {
     "data": {
      "image/png": "[encoded data removed]",
      "text/plain": [
       "<Figure size 864x576 with 1 Axes>"
      ]
     },
     "metadata": {
      "needs_background": "light"
     },
     "output_type": "display_data"
    }
   ],
   "source": [
    "# размер фигуры\n",
    "plt.figure(figsize=(12, 8))\n",
    "\n",
    "# задание параметров построения графика\n",
    "ax = sns.barplot(y=df_4_region.platform,\n",
    "                 x=df_4_region.value,\n",
    "                 orient='h',\n",
    "                 color='#6925c2',\n",
    "                 palette='viridis',\n",
    "                 hue=df_4_region.variable);\n",
    "\n",
    "# подписи осей и названия\n",
    "plt.xlabel('global sales, Million USD')\n",
    "plt.title('Распределение продаж игр по регионам в зависимости от игровой платформы начиная с 2012 года');"
   ]
  },
  {
   "cell_type": "markdown",
   "metadata": {},
   "source": [
    "Список Топ-5 платформ выглядит следующим образом:\n",
    "1. PS4\n",
    "2. X360\n",
    "3. PS3\n",
    "4. XOne\n",
    "5. 3DS\n",
    "\n",
    "Отметим, что на Европейском рынке наиболее популярны платформы производителя Sony (PS4, PS3), в то время как в Северной Америке наибольшей популярностью пользуются игровые консоли Microsoft (X360 и ее последователь XOne). В Японии же самой популярной платформой является 3DS производства местной компании Nintendo."
   ]
  },
  {
   "cell_type": "markdown",
   "metadata": {},
   "source": [
    "**Определим самые популярные жанры игр по регионам.**"
   ]
  },
  {
   "cell_type": "code",
   "execution_count": 75,
   "metadata": {},
   "outputs": [],
   "source": [
    "# получаем необходимый срез данных\n",
    "df_4_genre = df_4[['genre', 'na_sales', 'eu_sales', 'jp_sales']] \\\n",
    "    .groupby('genre', as_index=False) \\\n",
    "    .agg({'na_sales': 'sum', 'eu_sales': 'sum', 'jp_sales': 'sum'}) \\\n",
    "    .melt(id_vars=['genre']) \\\n",
    "    .sort_values('value', ascending=False)"
   ]
  },
  {
   "cell_type": "code",
   "execution_count": 76,
   "metadata": {},
   "outputs": [
    {
     "data": {
      "image/png": "[encoded data removed]",
      "text/plain": [
       "<Figure size 864x576 with 1 Axes>"
      ]
     },
     "metadata": {
      "needs_background": "light"
     },
     "output_type": "display_data"
    }
   ],
   "source": [
    "# размер фигуры\n",
    "plt.figure(figsize=(12, 8))\n",
    "\n",
    "# задание параметров построения графика\n",
    "ax = sns.barplot(y=df_4_genre.genre,\n",
    "                 x=df_4_genre.value,\n",
    "                 orient='h',\n",
    "                 color='#6925c2',\n",
    "                 palette='viridis',\n",
    "                 hue=df_4_genre.variable,\n",
    "                 hue_order=['eu_sales', 'na_sales', 'jp_sales']);\n",
    "\n",
    "# подписи осей и названия\n",
    "plt.xlabel('global sales, Million USD')\n",
    "plt.title('Распределение продаж игр по регионам в зависимости от жанра начиная с 2012 года');"
   ]
  },
  {
   "cell_type": "markdown",
   "metadata": {},
   "source": [
    "Список Топ-5 наиболее популярных жанров:\n",
    "1. Action\n",
    "2. Shooter\n",
    "3. Sports\n",
    "4. Role-Playing\n",
    "5. Misc\n",
    "\n",
    "Отметим, что в Японии шутеры имеют значительно меньшую популярность в сравнении с Европой и Северной Америкой. На Японском архипелаге наибольшей популярностью обладают жанры Role-Playing и Action. \n",
    "Также стоит отметить, что суммарный объем продаж игр всех жанров в Северной Америке и Европе примерно сопоставим, в то время как на азиатском рынке он меньше более чем в два раза."
   ]
  },
  {
   "cell_type": "markdown",
   "metadata": {},
   "source": [
    "**Рассмотрим влияние рейтинга ESRB на продажи в отдельном регионе**"
   ]
  },
  {
   "cell_type": "code",
   "execution_count": 77,
   "metadata": {},
   "outputs": [],
   "source": [
    "# получаем необходимый срез данных\n",
    "df_4_rating = df_4[['rating', 'na_sales', 'eu_sales', 'jp_sales']] \\\n",
    "    .groupby('rating', as_index=False) \\\n",
    "    .agg({'na_sales': 'sum', 'eu_sales': 'sum', 'jp_sales': 'sum'}) \\\n",
    "    .melt(id_vars=['rating']) \\\n",
    "    .sort_values('value', ascending=False)"
   ]
  },
  {
   "cell_type": "code",
   "execution_count": 78,
   "metadata": {},
   "outputs": [
    {
     "data": {
      "image/png": "[encoded data removed]",
      "text/plain": [
       "<Figure size 864x576 with 1 Axes>"
      ]
     },
     "metadata": {
      "needs_background": "light"
     },
     "output_type": "display_data"
    }
   ],
   "source": [
    "# размер фигуры\n",
    "plt.figure(figsize=(12, 8))\n",
    "\n",
    "# задание параметров построения графика\n",
    "ax = sns.barplot(y=df_4_rating.rating,\n",
    "                 x=df_4_rating.value,\n",
    "                 orient='h',\n",
    "                 color='#6925c2',\n",
    "                 palette='viridis',\n",
    "                 hue=df_4_rating.variable,\n",
    "                 hue_order=['eu_sales', 'na_sales', 'jp_sales']);\n",
    "\n",
    "# подписи осей и названия\n",
    "plt.xlabel('global sales, Million USD')\n",
    "plt.title('Распределение продаж игр по регионам в зависимости от присвоенного возрастного рейтинга начиная с 2012 года');"
   ]
  },
  {
   "cell_type": "markdown",
   "metadata": {},
   "source": [
    "Игры, получившие возрастной рейтинг M (контент пригодный для лиц старше 16 лет) в два раза популярнее остальных категорий рейтинга на рынках Европы и Северной Америки. Остальные категории игр распределены относительно равномерно на этих рынках. В Японии же наибольшей популярностью, также превышающей в два раза преследователей, обладают игры возрастной рейтинг которых нам неизвестен ('unknown'). В первую очередь это может быть связано не столько с предпочтениями пользователей, а с тем, что организатор рейтинга (ESRB, Location: New York City, New York, U.S) не уделяет должного внимания играм выходящим локально на азиатском рынке."
   ]
  },
  {
   "cell_type": "markdown",
   "metadata": {},
   "source": [
    "**Выводы**"
   ]
  },
  {
   "cell_type": "markdown",
   "metadata": {},
   "source": [
    "После проведенного анализа можем заключить, что портрет пользователя регионов Северная Америка и Европа не сильно различается, в то время, как азиатские потребители выделяются по проанализированным параметрам (выбор платформы, любимый жанр, ситуация с рейтингом наиболее продаваемых игра). Следовательно стоит учитывать историко-культурные различия регионов, отражающиеся непосредственно в предпочтениях пользоватлей, при ведении бизнеса."
   ]
  },
  {
   "cell_type": "markdown",
   "metadata": {},
   "source": [
    "## Этап 5. Исследование статистических показателей"
   ]
  },
  {
   "cell_type": "markdown",
   "metadata": {},
   "source": [
    "На этом этапе более детально изучим пользовательский рейтинг и рейтинг критиков. Исследуем статистические показатели."
   ]
  },
  {
   "cell_type": "markdown",
   "metadata": {},
   "source": [
    "Возьмем срез данных, использовавшийся на предыдущем этапе (данные за последние 5 лет (начиная с 2012 года)."
   ]
  },
  {
   "cell_type": "code",
   "execution_count": 79,
   "metadata": {},
   "outputs": [],
   "source": [
    "# получаем необходимый срез данных, приведя critic_score к размерности user_score делением на 10\n",
    "df_5 = df_4.assign(critic_score= lambda x: x.critic_score / 10) \\\n",
    "    .groupby('genre', as_index=False)\\\n",
    "    .agg({'critic_score': 'mean', 'user_score': 'mean'}) \\\n",
    "    .melt(id_vars=['genre']) \\\n",
    "    .sort_values('value', ascending=False)"
   ]
  },
  {
   "cell_type": "code",
   "execution_count": 80,
   "metadata": {},
   "outputs": [
    {
     "data": {
      "image/png": "[encoded data removed]",
      "text/plain": [
       "<Figure size 864x576 with 1 Axes>"
      ]
     },
     "metadata": {
      "needs_background": "light"
     },
     "output_type": "display_data"
    }
   ],
   "source": [
    "# размер фигуры\n",
    "plt.figure(figsize=(12, 8))\n",
    "\n",
    "# задание параметров построения графика\n",
    "ax = sns.barplot(y=df_5.genre,\n",
    "                 x=df_5.value,\n",
    "                 orient='h',\n",
    "                 color='#6925c2',\n",
    "                 palette=['#FF8785', '#10567E'],\n",
    "                 hue=df_5.variable);\n",
    "\n",
    "# подписи осей и названия\n",
    "ax.legend(loc = 'best')\n",
    "plt.xlabel('score, scale from 0 to 10')\n",
    "plt.title('Распределение средней оценки по жанрам с 2012 года');"
   ]
  },
  {
   "cell_type": "markdown",
   "metadata": {},
   "source": [
    "В большей части случаев оценки критиков и пользователей достаточно хорошо совпадают. В особенности для жанров Puzzle и Role-Playing.  \n",
    "Наибольшие расхождения в оценках между критиками и пользователями наблюдаются для жанров Sports и Racing (в обеих случаях критики более благосклонны к играм, в сравнении с пользователями).  \n",
    "Самую высокую среднюю оценку критиков имеют жанры Strategy, Platform и Puzzle.   \n",
    "Инересно отметить, что для всех жанров средняя оценка критиков почти всегда больше средней оценки пользователей (исключения: Puzzle и Adventure)."
   ]
  },
  {
   "cell_type": "markdown",
   "metadata": {},
   "source": [
    "Посмотрим на форму распределения оценок критиков и пользователей."
   ]
  },
  {
   "cell_type": "code",
   "execution_count": 81,
   "metadata": {},
   "outputs": [
    {
     "data": {
      "image/png": "[encoded data removed]",
      "text/plain": [
       "<Figure size 432x288 with 1 Axes>"
      ]
     },
     "metadata": {
      "needs_background": "light"
     },
     "output_type": "display_data"
    },
    {
     "data": {
      "image/png": "[encoded data removed]",
      "text/plain": [
       "<Figure size 432x288 with 1 Axes>"
      ]
     },
     "metadata": {
      "needs_background": "light"
     },
     "output_type": "display_data"
    }
   ],
   "source": [
    "# построение гистограммы для оценок критиков\n",
    "df_4.plot(y='critic_score',\n",
    "          kind='hist',\n",
    "          bins=20,\n",
    "          color='#FF8785')\n",
    "\n",
    "# подписи осей и названия\n",
    "plt.legend(loc = 'upper left')\n",
    "plt.xlabel('score, scale from 0 to 100')\n",
    "plt.ylabel('количество оценок')\n",
    "plt.title('Гистограмма распределения значений оценок критиков с 2012 года');\n",
    "\n",
    "\n",
    "# построение гистограммы для оценок пользователей\n",
    "df_4.plot(y='user_score',\n",
    "          kind='hist',\n",
    "          bins=20,\n",
    "          color='#10567E')\n",
    "\n",
    "# подписи осей и названия\n",
    "plt.legend(loc = 'best')\n",
    "plt.xlabel('score, scale from 0 to 10')\n",
    "plt.ylabel('количество оценок')\n",
    "plt.title('Гистограмма распределения значений оценок пользователей с 2012 года');"
   ]
  },
  {
   "cell_type": "markdown",
   "metadata": {},
   "source": [
    "Оба распределения близкие к нормальному. По своей форме уномодальные и симметричные. Значит в данных нет серьезных ошибок и можно относиться к ним, как к действительно независимым и случайным друг относительно друга. Следовательно в дальнейшем мы можем использовать базовый статистический мат. аппарат для проверки различных гипотез."
   ]
  },
  {
   "cell_type": "markdown",
   "metadata": {},
   "source": [
    "Посмотрим распределения основных статистик оценок критиков и пользователей (среднее, дисперсия, стандартное отклонение). "
   ]
  },
  {
   "cell_type": "code",
   "execution_count": 82,
   "metadata": {},
   "outputs": [
    {
     "data": {
      "text/html": [
       "<style  type=\"text/css\" >\n",
       "    #T_abc8baa4_8654_11eb_95c1_02420a399d6drow5_col2 {\n",
       "            background-color:  #FFC3C2;\n",
       "            : ;\n",
       "        }    #T_abc8baa4_8654_11eb_95c1_02420a399d6drow5_col3 {\n",
       "            background-color:  #FFC3C2;\n",
       "            : ;\n",
       "        }    #T_abc8baa4_8654_11eb_95c1_02420a399d6drow5_col4 {\n",
       "            : ;\n",
       "            background-color:  #D8ECC1;\n",
       "        }    #T_abc8baa4_8654_11eb_95c1_02420a399d6drow5_col5 {\n",
       "            background-color:  #FFC3C2;\n",
       "            : ;\n",
       "        }    #T_abc8baa4_8654_11eb_95c1_02420a399d6drow5_col6 {\n",
       "            background-color:  #FFC3C2;\n",
       "            : ;\n",
       "        }    #T_abc8baa4_8654_11eb_95c1_02420a399d6drow9_col1 {\n",
       "            background-color:  #FFC3C2;\n",
       "            : ;\n",
       "        }    #T_abc8baa4_8654_11eb_95c1_02420a399d6drow10_col2 {\n",
       "            : ;\n",
       "            background-color:  #D8ECC1;\n",
       "        }    #T_abc8baa4_8654_11eb_95c1_02420a399d6drow10_col3 {\n",
       "            : ;\n",
       "            background-color:  #D8ECC1;\n",
       "        }    #T_abc8baa4_8654_11eb_95c1_02420a399d6drow10_col4 {\n",
       "            background-color:  #FFC3C2;\n",
       "            : ;\n",
       "        }    #T_abc8baa4_8654_11eb_95c1_02420a399d6drow11_col1 {\n",
       "            : ;\n",
       "            background-color:  #D8ECC1;\n",
       "        }    #T_abc8baa4_8654_11eb_95c1_02420a399d6drow11_col5 {\n",
       "            : ;\n",
       "            background-color:  #D8ECC1;\n",
       "        }    #T_abc8baa4_8654_11eb_95c1_02420a399d6drow11_col6 {\n",
       "            : ;\n",
       "            background-color:  #D8ECC1;\n",
       "        }</style><table id=\"T_abc8baa4_8654_11eb_95c1_02420a399d6d\" ><thead>    <tr>        <th class=\"blank level0\" ></th>        <th class=\"col_heading level0 col0\" >genre</th>        <th class=\"col_heading level0 col1\" colspan=3>critic_score</th>        <th class=\"col_heading level0 col4\" colspan=3>user_score</th>    </tr>    <tr>        <th class=\"blank level1\" ></th>        <th class=\"col_heading level1 col0\" ></th>        <th class=\"col_heading level1 col1\" >mean</th>        <th class=\"col_heading level1 col2\" >var</th>        <th class=\"col_heading level1 col3\" >std</th>        <th class=\"col_heading level1 col4\" >mean</th>        <th class=\"col_heading level1 col5\" >var</th>        <th class=\"col_heading level1 col6\" >std</th>    </tr></thead><tbody>\n",
       "                <tr>\n",
       "                        <th id=\"T_abc8baa4_8654_11eb_95c1_02420a399d6dlevel0_row0\" class=\"row_heading level0 row0\" >0</th>\n",
       "                        <td id=\"T_abc8baa4_8654_11eb_95c1_02420a399d6drow0_col0\" class=\"data row0 col0\" >Action</td>\n",
       "                        <td id=\"T_abc8baa4_8654_11eb_95c1_02420a399d6drow0_col1\" class=\"data row0 col1\" >7.13784</td>\n",
       "                        <td id=\"T_abc8baa4_8654_11eb_95c1_02420a399d6drow0_col2\" class=\"data row0 col2\" >1.46259</td>\n",
       "                        <td id=\"T_abc8baa4_8654_11eb_95c1_02420a399d6drow0_col3\" class=\"data row0 col3\" >1.20937</td>\n",
       "                        <td id=\"T_abc8baa4_8654_11eb_95c1_02420a399d6drow0_col4\" class=\"data row0 col4\" >6.82505</td>\n",
       "                        <td id=\"T_abc8baa4_8654_11eb_95c1_02420a399d6drow0_col5\" class=\"data row0 col5\" >1.88908</td>\n",
       "                        <td id=\"T_abc8baa4_8654_11eb_95c1_02420a399d6drow0_col6\" class=\"data row0 col6\" >1.37444</td>\n",
       "            </tr>\n",
       "            <tr>\n",
       "                        <th id=\"T_abc8baa4_8654_11eb_95c1_02420a399d6dlevel0_row1\" class=\"row_heading level0 row1\" >1</th>\n",
       "                        <td id=\"T_abc8baa4_8654_11eb_95c1_02420a399d6drow1_col0\" class=\"data row1 col0\" >Adventure</td>\n",
       "                        <td id=\"T_abc8baa4_8654_11eb_95c1_02420a399d6drow1_col1\" class=\"data row1 col1\" >7.2661</td>\n",
       "                        <td id=\"T_abc8baa4_8654_11eb_95c1_02420a399d6drow1_col2\" class=\"data row1 col2\" >1.21021</td>\n",
       "                        <td id=\"T_abc8baa4_8654_11eb_95c1_02420a399d6drow1_col3\" class=\"data row1 col3\" >1.1001</td>\n",
       "                        <td id=\"T_abc8baa4_8654_11eb_95c1_02420a399d6drow1_col4\" class=\"data row1 col4\" >7.46667</td>\n",
       "                        <td id=\"T_abc8baa4_8654_11eb_95c1_02420a399d6drow1_col5\" class=\"data row1 col5\" >1.63239</td>\n",
       "                        <td id=\"T_abc8baa4_8654_11eb_95c1_02420a399d6drow1_col6\" class=\"data row1 col6\" >1.27765</td>\n",
       "            </tr>\n",
       "            <tr>\n",
       "                        <th id=\"T_abc8baa4_8654_11eb_95c1_02420a399d6dlevel0_row2\" class=\"row_heading level0 row2\" >2</th>\n",
       "                        <td id=\"T_abc8baa4_8654_11eb_95c1_02420a399d6drow2_col0\" class=\"data row2 col0\" >Fighting</td>\n",
       "                        <td id=\"T_abc8baa4_8654_11eb_95c1_02420a399d6drow2_col1\" class=\"data row2 col1\" >7.04062</td>\n",
       "                        <td id=\"T_abc8baa4_8654_11eb_95c1_02420a399d6drow2_col2\" class=\"data row2 col2\" >1.79769</td>\n",
       "                        <td id=\"T_abc8baa4_8654_11eb_95c1_02420a399d6drow2_col3\" class=\"data row2 col3\" >1.34078</td>\n",
       "                        <td id=\"T_abc8baa4_8654_11eb_95c1_02420a399d6drow2_col4\" class=\"data row2 col4\" >6.89571</td>\n",
       "                        <td id=\"T_abc8baa4_8654_11eb_95c1_02420a399d6drow2_col5\" class=\"data row2 col5\" >2.04853</td>\n",
       "                        <td id=\"T_abc8baa4_8654_11eb_95c1_02420a399d6drow2_col6\" class=\"data row2 col6\" >1.43127</td>\n",
       "            </tr>\n",
       "            <tr>\n",
       "                        <th id=\"T_abc8baa4_8654_11eb_95c1_02420a399d6dlevel0_row3\" class=\"row_heading level0 row3\" >3</th>\n",
       "                        <td id=\"T_abc8baa4_8654_11eb_95c1_02420a399d6drow3_col0\" class=\"data row3 col0\" >Misc</td>\n",
       "                        <td id=\"T_abc8baa4_8654_11eb_95c1_02420a399d6drow3_col1\" class=\"data row3 col1\" >7.2807</td>\n",
       "                        <td id=\"T_abc8baa4_8654_11eb_95c1_02420a399d6drow3_col2\" class=\"data row3 col2\" >1.01087</td>\n",
       "                        <td id=\"T_abc8baa4_8654_11eb_95c1_02420a399d6drow3_col3\" class=\"data row3 col3\" >1.00542</td>\n",
       "                        <td id=\"T_abc8baa4_8654_11eb_95c1_02420a399d6drow3_col4\" class=\"data row3 col4\" >6.93881</td>\n",
       "                        <td id=\"T_abc8baa4_8654_11eb_95c1_02420a399d6drow3_col5\" class=\"data row3 col5\" >1.58241</td>\n",
       "                        <td id=\"T_abc8baa4_8654_11eb_95c1_02420a399d6drow3_col6\" class=\"data row3 col6\" >1.25794</td>\n",
       "            </tr>\n",
       "            <tr>\n",
       "                        <th id=\"T_abc8baa4_8654_11eb_95c1_02420a399d6dlevel0_row4\" class=\"row_heading level0 row4\" >4</th>\n",
       "                        <td id=\"T_abc8baa4_8654_11eb_95c1_02420a399d6drow4_col0\" class=\"data row4 col0\" >Platform</td>\n",
       "                        <td id=\"T_abc8baa4_8654_11eb_95c1_02420a399d6drow4_col1\" class=\"data row4 col1\" >7.46102</td>\n",
       "                        <td id=\"T_abc8baa4_8654_11eb_95c1_02420a399d6drow4_col2\" class=\"data row4 col2\" >1.8807</td>\n",
       "                        <td id=\"T_abc8baa4_8654_11eb_95c1_02420a399d6drow4_col3\" class=\"data row4 col3\" >1.37138</td>\n",
       "                        <td id=\"T_abc8baa4_8654_11eb_95c1_02420a399d6drow4_col4\" class=\"data row4 col4\" >6.80606</td>\n",
       "                        <td id=\"T_abc8baa4_8654_11eb_95c1_02420a399d6drow4_col5\" class=\"data row4 col5\" >2.73719</td>\n",
       "                        <td id=\"T_abc8baa4_8654_11eb_95c1_02420a399d6drow4_col6\" class=\"data row4 col6\" >1.65445</td>\n",
       "            </tr>\n",
       "            <tr>\n",
       "                        <th id=\"T_abc8baa4_8654_11eb_95c1_02420a399d6dlevel0_row5\" class=\"row_heading level0 row5\" >5</th>\n",
       "                        <td id=\"T_abc8baa4_8654_11eb_95c1_02420a399d6drow5_col0\" class=\"data row5 col0\" >Puzzle</td>\n",
       "                        <td id=\"T_abc8baa4_8654_11eb_95c1_02420a399d6drow5_col1\" class=\"data row5 col1\" >7.54444</td>\n",
       "                        <td id=\"T_abc8baa4_8654_11eb_95c1_02420a399d6drow5_col2\" class=\"data row5 col2\" >0.482778</td>\n",
       "                        <td id=\"T_abc8baa4_8654_11eb_95c1_02420a399d6drow5_col3\" class=\"data row5 col3\" >0.694822</td>\n",
       "                        <td id=\"T_abc8baa4_8654_11eb_95c1_02420a399d6drow5_col4\" class=\"data row5 col4\" >7.63333</td>\n",
       "                        <td id=\"T_abc8baa4_8654_11eb_95c1_02420a399d6drow5_col5\" class=\"data row5 col5\" >0.79</td>\n",
       "                        <td id=\"T_abc8baa4_8654_11eb_95c1_02420a399d6drow5_col6\" class=\"data row5 col6\" >0.888819</td>\n",
       "            </tr>\n",
       "            <tr>\n",
       "                        <th id=\"T_abc8baa4_8654_11eb_95c1_02420a399d6dlevel0_row6\" class=\"row_heading level0 row6\" >6</th>\n",
       "                        <td id=\"T_abc8baa4_8654_11eb_95c1_02420a399d6drow6_col0\" class=\"data row6 col0\" >Racing</td>\n",
       "                        <td id=\"T_abc8baa4_8654_11eb_95c1_02420a399d6drow6_col1\" class=\"data row6 col1\" >7.18642</td>\n",
       "                        <td id=\"T_abc8baa4_8654_11eb_95c1_02420a399d6drow6_col2\" class=\"data row6 col2\" >1.57344</td>\n",
       "                        <td id=\"T_abc8baa4_8654_11eb_95c1_02420a399d6drow6_col3\" class=\"data row6 col3\" >1.25437</td>\n",
       "                        <td id=\"T_abc8baa4_8654_11eb_95c1_02420a399d6drow6_col4\" class=\"data row6 col4\" >6.15116</td>\n",
       "                        <td id=\"T_abc8baa4_8654_11eb_95c1_02420a399d6drow6_col5\" class=\"data row6 col5\" >2.78088</td>\n",
       "                        <td id=\"T_abc8baa4_8654_11eb_95c1_02420a399d6drow6_col6\" class=\"data row6 col6\" >1.6676</td>\n",
       "            </tr>\n",
       "            <tr>\n",
       "                        <th id=\"T_abc8baa4_8654_11eb_95c1_02420a399d6dlevel0_row7\" class=\"row_heading level0 row7\" >7</th>\n",
       "                        <td id=\"T_abc8baa4_8654_11eb_95c1_02420a399d6drow7_col0\" class=\"data row7 col0\" >Role-Playing</td>\n",
       "                        <td id=\"T_abc8baa4_8654_11eb_95c1_02420a399d6drow7_col1\" class=\"data row7 col1\" >7.30497</td>\n",
       "                        <td id=\"T_abc8baa4_8654_11eb_95c1_02420a399d6drow7_col2\" class=\"data row7 col2\" >1.5086</td>\n",
       "                        <td id=\"T_abc8baa4_8654_11eb_95c1_02420a399d6drow7_col3\" class=\"data row7 col3\" >1.22825</td>\n",
       "                        <td id=\"T_abc8baa4_8654_11eb_95c1_02420a399d6drow7_col4\" class=\"data row7 col4\" >7.25848</td>\n",
       "                        <td id=\"T_abc8baa4_8654_11eb_95c1_02420a399d6drow7_col5\" class=\"data row7 col5\" >1.63491</td>\n",
       "                        <td id=\"T_abc8baa4_8654_11eb_95c1_02420a399d6drow7_col6\" class=\"data row7 col6\" >1.27864</td>\n",
       "            </tr>\n",
       "            <tr>\n",
       "                        <th id=\"T_abc8baa4_8654_11eb_95c1_02420a399d6dlevel0_row8\" class=\"row_heading level0 row8\" >8</th>\n",
       "                        <td id=\"T_abc8baa4_8654_11eb_95c1_02420a399d6drow8_col0\" class=\"data row8 col0\" >Shooter</td>\n",
       "                        <td id=\"T_abc8baa4_8654_11eb_95c1_02420a399d6drow8_col1\" class=\"data row8 col1\" >7.3422</td>\n",
       "                        <td id=\"T_abc8baa4_8654_11eb_95c1_02420a399d6drow8_col2\" class=\"data row8 col2\" >1.54885</td>\n",
       "                        <td id=\"T_abc8baa4_8654_11eb_95c1_02420a399d6drow8_col3\" class=\"data row8 col3\" >1.24453</td>\n",
       "                        <td id=\"T_abc8baa4_8654_11eb_95c1_02420a399d6drow8_col4\" class=\"data row8 col4\" >6.4359</td>\n",
       "                        <td id=\"T_abc8baa4_8654_11eb_95c1_02420a399d6drow8_col5\" class=\"data row8 col5\" >2.06551</td>\n",
       "                        <td id=\"T_abc8baa4_8654_11eb_95c1_02420a399d6drow8_col6\" class=\"data row8 col6\" >1.43719</td>\n",
       "            </tr>\n",
       "            <tr>\n",
       "                        <th id=\"T_abc8baa4_8654_11eb_95c1_02420a399d6dlevel0_row9\" class=\"row_heading level0 row9\" >9</th>\n",
       "                        <td id=\"T_abc8baa4_8654_11eb_95c1_02420a399d6drow9_col0\" class=\"data row9 col0\" >Simulation</td>\n",
       "                        <td id=\"T_abc8baa4_8654_11eb_95c1_02420a399d6drow9_col1\" class=\"data row9 col1\" >6.66154</td>\n",
       "                        <td id=\"T_abc8baa4_8654_11eb_95c1_02420a399d6drow9_col2\" class=\"data row9 col2\" >1.83769</td>\n",
       "                        <td id=\"T_abc8baa4_8654_11eb_95c1_02420a399d6drow9_col3\" class=\"data row9 col3\" >1.35562</td>\n",
       "                        <td id=\"T_abc8baa4_8654_11eb_95c1_02420a399d6drow9_col4\" class=\"data row9 col4\" >6.5119</td>\n",
       "                        <td id=\"T_abc8baa4_8654_11eb_95c1_02420a399d6drow9_col5\" class=\"data row9 col5\" >3.28546</td>\n",
       "                        <td id=\"T_abc8baa4_8654_11eb_95c1_02420a399d6drow9_col6\" class=\"data row9 col6\" >1.81259</td>\n",
       "            </tr>\n",
       "            <tr>\n",
       "                        <th id=\"T_abc8baa4_8654_11eb_95c1_02420a399d6dlevel0_row10\" class=\"row_heading level0 row10\" >10</th>\n",
       "                        <td id=\"T_abc8baa4_8654_11eb_95c1_02420a399d6drow10_col0\" class=\"data row10 col0\" >Sports</td>\n",
       "                        <td id=\"T_abc8baa4_8654_11eb_95c1_02420a399d6drow10_col1\" class=\"data row10 col1\" >7.28951</td>\n",
       "                        <td id=\"T_abc8baa4_8654_11eb_95c1_02420a399d6drow10_col2\" class=\"data row10 col2\" >2.39418</td>\n",
       "                        <td id=\"T_abc8baa4_8654_11eb_95c1_02420a399d6drow10_col3\" class=\"data row10 col3\" >1.54732</td>\n",
       "                        <td id=\"T_abc8baa4_8654_11eb_95c1_02420a399d6drow10_col4\" class=\"data row10 col4\" >5.4559</td>\n",
       "                        <td id=\"T_abc8baa4_8654_11eb_95c1_02420a399d6drow10_col5\" class=\"data row10 col5\" >3.02289</td>\n",
       "                        <td id=\"T_abc8baa4_8654_11eb_95c1_02420a399d6drow10_col6\" class=\"data row10 col6\" >1.73865</td>\n",
       "            </tr>\n",
       "            <tr>\n",
       "                        <th id=\"T_abc8baa4_8654_11eb_95c1_02420a399d6dlevel0_row11\" class=\"row_heading level0 row11\" >11</th>\n",
       "                        <td id=\"T_abc8baa4_8654_11eb_95c1_02420a399d6drow11_col0\" class=\"data row11 col0\" >Strategy</td>\n",
       "                        <td id=\"T_abc8baa4_8654_11eb_95c1_02420a399d6drow11_col1\" class=\"data row11 col1\" >7.5871</td>\n",
       "                        <td id=\"T_abc8baa4_8654_11eb_95c1_02420a399d6drow11_col2\" class=\"data row11 col2\" >1.56649</td>\n",
       "                        <td id=\"T_abc8baa4_8654_11eb_95c1_02420a399d6drow11_col3\" class=\"data row11 col3\" >1.2516</td>\n",
       "                        <td id=\"T_abc8baa4_8654_11eb_95c1_02420a399d6drow11_col4\" class=\"data row11 col4\" >6.42</td>\n",
       "                        <td id=\"T_abc8baa4_8654_11eb_95c1_02420a399d6drow11_col5\" class=\"data row11 col5\" >4.12459</td>\n",
       "                        <td id=\"T_abc8baa4_8654_11eb_95c1_02420a399d6drow11_col6\" class=\"data row11 col6\" >2.03091</td>\n",
       "            </tr>\n",
       "    </tbody></table>"
      ],
      "text/plain": [
       "<pandas.io.formats.style.Styler at 0x7f509bae0410>"
      ]
     },
     "execution_count": 82,
     "metadata": {},
     "output_type": "execute_result"
    }
   ],
   "source": [
    "# подсчет статистик\n",
    "# зеленым подсвечены максимальные значения по каждому столбцу\n",
    "# красным подсвечены минимальные значения по каждому столбцу\n",
    "df_5_wide = df_4.assign(critic_score= lambda x: x.critic_score / 10) \\\n",
    "    .groupby('genre', as_index=False)\\\n",
    "    .agg({'critic_score': ['mean', 'var', 'std'],\n",
    "          'user_score': ['mean', 'var', 'std']}) \\\n",
    "    .style.highlight_min(axis=0, color='#FFC3C2') \\\n",
    "    .highlight_max(axis=0, color='#D8ECC1')\n",
    "\n",
    "df_5_wide"
   ]
  },
  {
   "cell_type": "markdown",
   "metadata": {},
   "source": [
    "**Выводы**"
   ]
  },
  {
   "cell_type": "markdown",
   "metadata": {},
   "source": [
    "Максимальную среднюю оценку у критиков получили игры жанра Strategy, минимальную игры жанра Simulation. Наибольший разброс оценок среди критиков наблюдается у игр жанра Sports, наименьший у игр Puzzle.  \n",
    "\n",
    "Максимальную среднюю оценку пользователей получили игры жанра Puzzle, минимальную игры жанра Sports. Наибольший разброс оценок среди пользователей наблюдается у игр жанра Strategy, наименьший у игр Puzzle.     \n",
    "\n",
    "Возможно в рядах обычных пользователей присутствует группа любителей игр, которые ярко-выраженно негативно относятся к играм жанра Sport и ставят этим играм минимально возможно низкие оценки. Критики же больше основываются не на личных предпочтениях жанров, а на качестве игр вцелом. Этим может объясняться максимальная дельта оценок для игр жанра Sports у критиков и пользователей, а также наибольший разброс оценок (дисперсия и стандартное отклонение) игр жанра Sports среди пользователей, после жанра Strategy."
   ]
  },
  {
   "cell_type": "markdown",
   "metadata": {},
   "source": [
    "## Этап 6. Проверка гипотез"
   ]
  },
  {
   "cell_type": "markdown",
   "metadata": {},
   "source": [
    "**Проверка гипотезы №1.**"
   ]
  },
  {
   "cell_type": "markdown",
   "metadata": {},
   "source": [
    "Нулевая гипотеза: средние пользовательские рейтинги платформ Xbox One и PC одинаковые.  \n",
    "Альтернативная гипотеза: средние пользовательские рейтинги платформ Xbox One и PC различаются."
   ]
  },
  {
   "cell_type": "code",
   "execution_count": 83,
   "metadata": {},
   "outputs": [
    {
     "name": "stdout",
     "output_type": "stream",
     "text": [
      "Дисперсии выборок различны. Будем использовать equal_var = False\n",
      "p-значение: 0.5489537965134912\n",
      "Не получилось отвергнуть нулевую гипотезу\n"
     ]
    }
   ],
   "source": [
    "# произведем выборку требующихся для проверки гипотезы данных\n",
    "sample_1 = np.asarray(df_4.query('platform == \"XOne\"').user_score.to_list())\n",
    "sample_2 = np.asarray(df_4.query('platform == \"PC\"').user_score.to_list())\n",
    "\n",
    "# убираем NaN значения из наших выборок\n",
    "sample_1_na = sample_1[~np.isnan(sample_1)]\n",
    "sample_2_na = sample_2[~np.isnan(sample_2)]\n",
    "\n",
    "alpha = 0.05  # критический уровень статистической значимости\n",
    "# если p-value окажется меньше него - отвергнем гипотезу\n",
    "\n",
    "# проверка равенства дисперсий\n",
    "lv = st.levene(sample_1_na, sample_2_na)\n",
    "if lv.pvalue > alpha:\n",
    "    param = True\n",
    "    print('Обе выборки имеют схожие дисперсии')\n",
    "else:\n",
    "    print('Дисперсии выборок различны. Будем использовать equal_var = False')\n",
    "    param = False\n",
    "\n",
    "    \n",
    "# проведение t-test    \n",
    "results = st.ttest_ind(sample_1_na, sample_2_na, equal_var=param)\n",
    "\n",
    "\n",
    "print('p-значение:', results.pvalue)\n",
    "\n",
    "if results.pvalue < alpha:\n",
    "    print(\"Отвергаем нулевую гипотезу\")\n",
    "else:\n",
    "    print(\"Не получилось отвергнуть нулевую гипотезу\")"
   ]
  },
  {
   "cell_type": "markdown",
   "metadata": {},
   "source": [
    "Нулевую гипотезу отвергнуть не удалось. Таким образом, у нас имеются сильные основания полагать, что средние показатели рейтинга платформы Xbox One и PC одинаковые."
   ]
  },
  {
   "cell_type": "markdown",
   "metadata": {},
   "source": [
    "**Проверка гипотезы №2.**"
   ]
  },
  {
   "cell_type": "markdown",
   "metadata": {},
   "source": [
    "Нулевая гипотеза: средние пользовательские рейтинги жанров Action и Sports одинаковые.   \n",
    "Альтернативная гипотеза: средние пользовательские рейтинги жанров Action и Sports различаются."
   ]
  },
  {
   "cell_type": "code",
   "execution_count": 84,
   "metadata": {},
   "outputs": [
    {
     "name": "stdout",
     "output_type": "stream",
     "text": [
      "Дисперсии выборок различны. Будем использовать equal_var = False\n",
      "p-значение: 4.24307776572644e-20\n",
      "Отвергаем нулевую гипотезу\n"
     ]
    }
   ],
   "source": [
    "# произведем выборку требующихся для проверки гипотезы данных\n",
    "sample_1 = np.asarray(df_4.query('genre == \"Action\"').user_score.to_list())\n",
    "sample_2 = np.asarray(df_4.query('genre == \"Sports\"').user_score.to_list())\n",
    "\n",
    "# убираем NaN значения из наших выборок\n",
    "sample_1_na = sample_1[~np.isnan(sample_1)]\n",
    "sample_2_na = sample_2[~np.isnan(sample_2)]\n",
    "\n",
    "alpha = 0.05  # критический уровень статистической значимости\n",
    "# если p-value окажется меньше него - отвергнем гипотезу\n",
    "\n",
    "\n",
    "# проверка равенства дисперсий\n",
    "lv = st.levene(sample_1_na, sample_2_na)\n",
    "if lv.pvalue > alpha:\n",
    "    param = True\n",
    "    print('Обе выборки имеют схожие дисперсии')\n",
    "else:\n",
    "    print('Дисперсии выборок различны. Будем использовать equal_var = False')\n",
    "    param = False\n",
    "\n",
    "    \n",
    "# проведение t-test    \n",
    "results = st.ttest_ind(sample_1_na, sample_2_na, equal_var=param)\n",
    "\n",
    "\n",
    "print('p-значение:', results.pvalue)\n",
    "\n",
    "if results.pvalue < alpha:\n",
    "    print(\"Отвергаем нулевую гипотезу\")\n",
    "else:\n",
    "    print(\"Не получилось отвергнуть нулевую гипотезу\")"
   ]
  },
  {
   "cell_type": "markdown",
   "metadata": {},
   "source": [
    "Нам удалось отвергнуть нулевую гипотезу. Таким образом, у нас имеются сильные основания полагать, что средние пользовательские рейтинги жанров Action и Sports различаются."
   ]
  },
  {
   "cell_type": "markdown",
   "metadata": {},
   "source": [
    "**Выводы**"
   ]
  },
  {
   "cell_type": "markdown",
   "metadata": {},
   "source": [
    "На данном этапе нам удалось проверить две гипотезы о средних пользовательских рейтингах. В результате проверки гипотез, мы теперь можем с большой долей уверенности полагать, что:\n",
    "* средние пользовательские рейтинги платформ Xbox One и PC одинаковые;\n",
    "* средние пользовательские рейтинги жанров Action и Sports различны."
   ]
  },
  {
   "cell_type": "markdown",
   "metadata": {},
   "source": [
    "## Этап 7. Результаты исследования"
   ]
  },
  {
   "cell_type": "markdown",
   "metadata": {},
   "source": [
    "**Рабочие гипотезы**\n",
    "* Средние пользовательские рейтинги платформ Xbox One и PC одинаковые;\n",
    "* Средние пользовательские рейтинги жанров Action (англ. «действие») и Sports (англ. «виды спорта») разные.\n",
    "\n",
    "**Общие выводы**\n",
    "* половина всех видео игр была выпущена в период с 2007 по 2016 годы;\n",
    "* пик глобальных продаж выпущенных игр приходился на 2008-2009 годы. На данный момент отрасль видео игр находится в стадии спада;\n",
    "* жизненный цикл платформы видеоигр составляет порядка 7-10 лет;\n",
    "* на ближайшее время перспективными являются платформы: PS4, XOne и DS3;\n",
    "* наиболее популярные жанры игр за последние 5 лет: Action, Shooter и Role-Playing;\n",
    "* большую часть общей выручки генерирует незначительное количество игр-хитов, продажи которых в десятки раз превышают продажи остальных игр;\n",
    "* портрет пользователя регионов Северная Америка и Европа не сильно различается по предпочтениям, в то время, как азиатские потребители выделяются, как выбором платформы, так и любимым жанром. Следовательно стоит учитывать историко-культурные различия регионов, отражающиеся непосредственно в предпочтениях пользоватлей, при ведении бизнеса;\n",
    "* оценки критиков и пользователей имеют среднюю корреляцию и в целом неплохо согласуются между собой;\n",
    "* в тоже самое время было выяснено, что оценки критиков и оценки пользователей не сильно влияют на динамику продаж (в обоих случаях наблюдается слабая корреляция).\n",
    "* в результате проверки гипотез нам удалось подтвердить первую гипотезу и опровергнуть вторую.\n",
    "\n",
    "**Общие рекомендации**\n",
    "* делать ставку на продажу игр для платформ PS4, XOne и DS3;\n",
    "* отдавать преимущество играм жанров Action, Shooter и Role-Playing;\n",
    "* учитывать специфику азиатского рынка при запуска рекламных компаний;\n",
    "* на дальнюю перспективу подумать о диверсификаци бизнеса и/или иных источниках выручки."
   ]
  }
 ],
 "metadata": {
  "kernelspec": {
   "display_name": "Python 3",
   "language": "python",
   "name": "python3"
  },
  "language_info": {
   "codemirror_mode": {
    "name": "ipython",
    "version": 3
   },
   "file_extension": ".py",
   "mimetype": "text/x-python",
   "name": "python",
   "nbconvert_exporter": "python",
   "pygments_lexer": "ipython3",
   "version": "3.7.6"
  },
  "toc": {
   "base_numbering": 1,
   "nav_menu": {},
   "number_sections": true,
   "sideBar": true,
   "skip_h1_title": true,
   "title_cell": "Table of Contents",
   "title_sidebar": "Contents",
   "toc_cell": false,
   "toc_position": {},
   "toc_section_display": true,
   "toc_window_display": false
  }
 },
 "nbformat": 4,
 "nbformat_minor": 2
}
